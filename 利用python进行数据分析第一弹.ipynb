{
 "cells": [
  {
   "cell_type": "markdown",
   "id": "1ba3f534",
   "metadata": {},
   "source": [
    "# 任务：\n",
    "1.给个数据列表：states\n",
    "2.把数据中的符号删除，字符串前后空格删除，内容变成标题的形式\n",
    "\n",
    "### 基础版："
   ]
  },
  {
   "cell_type": "code",
   "execution_count": 16,
   "id": "e4cb8284",
   "metadata": {},
   "outputs": [],
   "source": [
    "states = ['   #Alabama?  ', 'FlOrIda', 'south   carolina##', 'West virginia?']"
   ]
  },
  {
   "cell_type": "code",
   "execution_count": 17,
   "id": "a02cb7d3",
   "metadata": {},
   "outputs": [
    {
     "data": {
      "text/plain": [
       "['Alabama', 'Florida', 'South   Carolina', 'West Virginia']"
      ]
     },
     "execution_count": 17,
     "metadata": {},
     "output_type": "execute_result"
    }
   ],
   "source": [
    "import re\n",
    "\n",
    "def clean_strings(strings):\n",
    "    result=[]\n",
    "    for value in strings:\n",
    "        value=value.strip()\n",
    "        value=re.sub('[!#?]','',value)\n",
    "        value=value.title()\n",
    "        result.append(value)\n",
    "    return result\n",
    "clean_strings(states)"
   ]
  },
  {
   "cell_type": "markdown",
   "id": "611d43d5",
   "metadata": {},
   "source": [
    "### 进阶版：(将功能都提取出来，打包操作)"
   ]
  },
  {
   "cell_type": "code",
   "execution_count": 18,
   "id": "210c4847",
   "metadata": {},
   "outputs": [],
   "source": [
    "states = ['   #Alabama?  ', 'FlOrIda', 'south   carolina##', 'West virginia?']"
   ]
  },
  {
   "cell_type": "code",
   "execution_count": 19,
   "id": "7b022943",
   "metadata": {},
   "outputs": [
    {
     "data": {
      "text/plain": [
       "['Alabama', 'Florida', 'South   Carolina', 'West Virginia']"
      ]
     },
     "execution_count": 19,
     "metadata": {},
     "output_type": "execute_result"
    }
   ],
   "source": [
    "def remove_punctuation(value):\n",
    "    return re.sub('[!#?]','',value)\n",
    "\n",
    "clean_ops=[str.strip,remove_punctuation,str.title]\n",
    "# 函数列表clean_ops\n",
    "\n",
    "def clean_strings(string,ops):\n",
    "    result=[]\n",
    "    for value in string:\n",
    "        for function in ops:\n",
    "            value=function(value)\n",
    "        result.append(value)\n",
    "    return result\n",
    "\n",
    "clean_strings(states,clean_ops)\n"
   ]
  },
  {
   "cell_type": "markdown",
   "id": "6bb9ac8e",
   "metadata": {},
   "source": [
    "### 优化: 将[2][3]中的空格也去掉"
   ]
  },
  {
   "cell_type": "code",
   "execution_count": 27,
   "id": "972d7594",
   "metadata": {},
   "outputs": [
    {
     "data": {
      "text/plain": [
       "['Alabama', 'Florida', 'Southcarolina', 'Westvirginia']"
      ]
     },
     "execution_count": 27,
     "metadata": {},
     "output_type": "execute_result"
    }
   ],
   "source": [
    "def remove_spaces(value):\n",
    "    return re.sub(' ', '',value)\n",
    "\n",
    "def remove_punctuation(value):\n",
    "    return re.sub('[!#?]','',value)\n",
    "\n",
    "clean_ops=[str.strip,remove_punctuation,remove_spaces,str.title]\n",
    "# 函数列表clean_ops\n",
    "\n",
    "def clean_strings(string,ops):\n",
    "    result=[]\n",
    "    for value in string:\n",
    "        for function in ops:\n",
    "            value=function(value)\n",
    "        result.append(value)\n",
    "    return result\n",
    "\n",
    "clean_strings(states,clean_ops)\n"
   ]
  },
  {
   "cell_type": "markdown",
   "id": "78c7b36e",
   "metadata": {},
   "source": [
    "### 继续优化：[2][3]中间应该有一个空格"
   ]
  },
  {
   "cell_type": "code",
   "execution_count": 28,
   "id": "66b62155",
   "metadata": {},
   "outputs": [
    {
     "data": {
      "text/plain": [
       "['Alabama', 'Florida', 'South Carolina', 'West Virginia']"
      ]
     },
     "execution_count": 28,
     "metadata": {},
     "output_type": "execute_result"
    }
   ],
   "source": [
    "def remove_spaces(value):\n",
    "    return re.sub(' +', ' ',value)\n",
    "# 一个以上的空格替换成一个空格\n",
    "#  +：一个或多个+前面的字符\n",
    "\n",
    "def remove_punctuation(value):\n",
    "    return re.sub('[!#?]','',value)\n",
    "\n",
    "clean_ops=[str.strip,remove_punctuation,remove_spaces,str.title]\n",
    "# 函数列表clean_ops\n",
    "\n",
    "def clean_strings(string,ops):\n",
    "    result=[]\n",
    "    for value in string:\n",
    "        for function in ops:\n",
    "            value=function(value)\n",
    "        result.append(value)\n",
    "    return result\n",
    "\n",
    "clean_strings(states,clean_ops)"
   ]
  },
  {
   "cell_type": "markdown",
   "id": "0dd699fb",
   "metadata": {},
   "source": [
    "## 神奇的map函数：\n",
    "    map(ops,value)\n",
    "    功能：将函数ops循环运用到value列表上\n",
    "    例如："
   ]
  },
  {
   "cell_type": "code",
   "execution_count": 29,
   "id": "31515231",
   "metadata": {},
   "outputs": [
    {
     "name": "stdout",
     "output_type": "stream",
     "text": [
      "['   Alabama  ', 'FlOrIda', 'south   carolina', 'West virginia']\n"
     ]
    }
   ],
   "source": [
    "result=[]\n",
    "for value in map(remove_punctuation,states):\n",
    "    result.append(value)\n",
    "print(result)\n"
   ]
  },
  {
   "cell_type": "markdown",
   "id": "fb307d72",
   "metadata": {},
   "source": [
    "### 匿名函数 lambda\n",
    "    作用：直接声明是个函数，不用def 这个函数的功能\n",
    "    \n",
    "#### 例一：要实现将某个列表的数值乘二、平方的操作"
   ]
  },
  {
   "cell_type": "code",
   "execution_count": 33,
   "id": "aa71cdea",
   "metadata": {},
   "outputs": [
    {
     "name": "stdout",
     "output_type": "stream",
     "text": [
      "乘二： [2, 4, 6, 8, 10]\n",
      "平方： [1, 4, 9, 16, 25]\n"
     ]
    }
   ],
   "source": [
    "num_one=[1,2,3,4,5]\n",
    "result_one=[x*2 for x in num_one]\n",
    "result_two=[x**2 for x in num_one]\n",
    "print('乘二：',result_one)\n",
    "print('平方：',result_two)"
   ]
  },
  {
   "cell_type": "markdown",
   "id": "aabd75c5",
   "metadata": {},
   "source": [
    "用 def 定义乘二 或者平方"
   ]
  },
  {
   "cell_type": "code",
   "execution_count": 37,
   "id": "0b14c7d8",
   "metadata": {},
   "outputs": [
    {
     "name": "stdout",
     "output_type": "stream",
     "text": [
      "[2, 4, 6, 8, 10]\n"
     ]
    }
   ],
   "source": [
    "def function_mult(x):\n",
    "    return x*2\n",
    "\n",
    "result_three=[]\n",
    "\n",
    "for value in map(function_mult,num_one):\n",
    "    result_three.append(value)\n",
    "print(result_three)\n",
    "        \n",
    "    "
   ]
  },
  {
   "cell_type": "markdown",
   "id": "23e76dc9",
   "metadata": {},
   "source": [
    "    因为*2、**2的功能太简单了，所以不用额外定义一个函数\n",
    "    可以直接用lambda"
   ]
  },
  {
   "cell_type": "code",
   "execution_count": 40,
   "id": "76cfbbaf",
   "metadata": {},
   "outputs": [
    {
     "name": "stdout",
     "output_type": "stream",
     "text": [
      "[2, 4, 6, 8, 10]\n"
     ]
    }
   ],
   "source": [
    "result_four=[]\n",
    "\n",
    "for value in map(lambda x : x*2,num_one):\n",
    "    result_four.append(value)\n",
    "print(result_four)\n"
   ]
  },
  {
   "cell_type": "markdown",
   "id": "fc592ee6",
   "metadata": {},
   "source": [
    "#### 例二：按照字符串中不同字母的个数进行排序"
   ]
  },
  {
   "cell_type": "code",
   "execution_count": 41,
   "id": "d039e4f2",
   "metadata": {},
   "outputs": [
    {
     "data": {
      "text/plain": [
       "['aaaa', 'foo', 'abab', 'bar', 'card']"
      ]
     },
     "execution_count": 41,
     "metadata": {},
     "output_type": "execute_result"
    }
   ],
   "source": [
    "strings = ['foo', 'card', 'bar', 'aaaa', 'abab']\n",
    "\n",
    "y=lambda x : len(set(list(x)))\n",
    "\n",
    "strings.sort(key=y)\n",
    "strings"
   ]
  },
  {
   "cell_type": "markdown",
   "id": "3dda4868",
   "metadata": {},
   "source": [
    "# list.sort 与sorted 区别\n",
    "    list.sort:\n",
    "     1.排序 \n",
    "    2.改变原列表\n",
    "    list.sort(func=None,key=None,reverse=F..)\n",
    "    \n",
    "     sorted：\n",
    "     1.排序 \n",
    "     2.不改变原列表\n",
    "     sorted(iteralable,key=None,reverse)\n",
    "看key怎么用，例子：\n",
    "将student——tuples 按照[2]进行从小到大的排序"
   ]
  },
  {
   "cell_type": "code",
   "execution_count": 55,
   "id": "2b590bc0",
   "metadata": {},
   "outputs": [
    {
     "data": {
      "text/plain": [
       "[('dave', 'B', 10), ('jane', 'B', 12), ('john', 'A', 15)]"
      ]
     },
     "execution_count": 55,
     "metadata": {},
     "output_type": "execute_result"
    }
   ],
   "source": [
    "student_tuples = [('john', 'A', 15), ('jane', 'B', 12), ('dave', 'B', 10)]\n",
    "sorted(student_tuples, key = lambda x:x[2])"
   ]
  },
  {
   "cell_type": "code",
   "execution_count": 60,
   "id": "becfc314",
   "metadata": {
    "scrolled": false
   },
   "outputs": [
    {
     "data": {
      "text/plain": [
       "[('john', 'A', 15), ('jane', 'B', 12), ('dave', 'B', 10)]"
      ]
     },
     "execution_count": 60,
     "metadata": {},
     "output_type": "execute_result"
    }
   ],
   "source": [
    "student_tuples\n",
    "# 原列表未改变"
   ]
  },
  {
   "cell_type": "markdown",
   "id": "12fadb23",
   "metadata": {},
   "source": [
    "# 概括函数即对象\n",
    "    函数可以作为一个操作对象\n",
    "    如下:\n",
    "    add_numbers 函数可以被当做test函数的操作对象a"
   ]
  },
  {
   "cell_type": "code",
   "execution_count": 1,
   "id": "eff9cbe6",
   "metadata": {},
   "outputs": [
    {
     "data": {
      "text/plain": [
       "6"
      ]
     },
     "execution_count": 1,
     "metadata": {},
     "output_type": "execute_result"
    }
   ],
   "source": [
    "def add_numbers(x,y):\n",
    "    return x + y\n",
    "def test(a):\n",
    "    return a(2,4)\n",
    "\n",
    "test(add_numbers)"
   ]
  },
  {
   "cell_type": "markdown",
   "id": "a23e5c40",
   "metadata": {},
   "source": [
    "# Generators 生成器\n",
    "    1. 可迭代，表达的内容比较模糊\n",
    "    2.yield 替换 return 效果?"
   ]
  },
  {
   "cell_type": "code",
   "execution_count": 3,
   "id": "3306d026",
   "metadata": {},
   "outputs": [
    {
     "name": "stdout",
     "output_type": "stream",
     "text": [
      "<list_iterator object at 0x000001CAB34484C0>\n",
      "[1, 2, 3]\n"
     ]
    }
   ],
   "source": [
    "L=[1,2,3]\n",
    "A=iter(L)\n",
    "print(A)\n",
    "print(list(A))"
   ]
  },
  {
   "cell_type": "code",
   "execution_count": 7,
   "id": "9fe83587",
   "metadata": {},
   "outputs": [
    {
     "data": {
      "text/plain": [
       "60"
      ]
     },
     "execution_count": 7,
     "metadata": {},
     "output_type": "execute_result"
    }
   ],
   "source": [
    "def text_one(x):\n",
    "    return x*10\n",
    "\n",
    "text_one(6)"
   ]
  },
  {
   "cell_type": "code",
   "execution_count": 11,
   "id": "661847cf",
   "metadata": {},
   "outputs": [
    {
     "data": {
      "text/plain": [
       "[12, 24]"
      ]
     },
     "execution_count": 11,
     "metadata": {},
     "output_type": "execute_result"
    }
   ],
   "source": [
    "def text_two(x):\n",
    "    \n",
    "    a=x*2\n",
    "    yield a\n",
    "    \n",
    "    b=a*2\n",
    "    yield b\n",
    "\n",
    "list(text_two(6))"
   ]
  },
  {
   "cell_type": "code",
   "execution_count": 27,
   "id": "959665e9",
   "metadata": {},
   "outputs": [
    {
     "name": "stdout",
     "output_type": "stream",
     "text": [
      "0 *2= 0\n",
      "1 *2= 2\n",
      "2 *2= 4\n",
      "3 *2= 6\n",
      "4 *2= 8\n",
      "5 *2= 10\n",
      "6 *2= 12\n",
      "7 *2= 14\n",
      "8 *2= 16\n",
      "9 *2= 18\n",
      "10 *2= 20\n"
     ]
    }
   ],
   "source": [
    "def yield_test(n):\n",
    "    for i in range(n+1):\n",
    "        yield change(i)\n",
    "    \n",
    "def change(x):\n",
    "    return x*2\n",
    "\n",
    "a=0\n",
    "for i in yield_test(10):\n",
    "    print(a,'*2=',i)\n",
    "    a+=1\n",
    "    \n",
    "    \n"
   ]
  },
  {
   "cell_type": "code",
   "execution_count": 32,
   "id": "964b22c1",
   "metadata": {},
   "outputs": [
    {
     "data": {
      "text/plain": [
       "{1: 2, 3: 6, 5: 10, 7: 14, 9: 18}"
      ]
     },
     "execution_count": 32,
     "metadata": {},
     "output_type": "execute_result"
    }
   ],
   "source": [
    "num=(1,3,5,7,9)\n",
    "dict((i,i*2) for i in num)"
   ]
  },
  {
   "cell_type": "markdown",
   "id": "4b9a0cb8",
   "metadata": {},
   "source": [
    "###  from itertools import groupby"
   ]
  },
  {
   "cell_type": "code",
   "execution_count": 42,
   "id": "446f1f2b",
   "metadata": {},
   "outputs": [
    {
     "name": "stdout",
     "output_type": "stream",
     "text": [
      "1 : [(1, 2), (1, 3), (1, 5)]\n",
      "2 : [(2, 3), (2, 5), (2, 9)]\n"
     ]
    }
   ],
   "source": [
    "from itertools import groupby\n",
    "date=[(1,2),(1,3),(1,5),(2,3),(2,5),(2,9)]\n",
    "temp=groupby(date,key=lambda x:x[0])\n",
    "\n",
    "for a,b in temp:\n",
    "    print(a,':',list(b))\n",
    "    "
   ]
  },
  {
   "cell_type": "markdown",
   "id": "21c25109",
   "metadata": {},
   "source": [
    "### from itertools import combinations\n",
    "组合（类似于一组人之间，几个人不重复握手）"
   ]
  },
  {
   "cell_type": "code",
   "execution_count": 1,
   "id": "83ffbb72",
   "metadata": {
    "scrolled": false
   },
   "outputs": [
    {
     "name": "stdout",
     "output_type": "stream",
     "text": [
      "your password is : (1, 2, 3)\n",
      "your password is : (1, 2, 4)\n",
      "your password is : (1, 3, 4)\n",
      "your password is : (2, 3, 4)\n"
     ]
    }
   ],
   "source": [
    "num=[1,2,3,4]\n",
    "\n",
    "from itertools import combinations\n",
    "for zuhe in combinations(num,3):\n",
    "    print('your password is :',password)\n",
    "    "
   ]
  },
  {
   "cell_type": "markdown",
   "id": "6dcc775e",
   "metadata": {},
   "source": [
    "### from itertools import permutations\n",
    "排列，类似于，盲猜密码"
   ]
  },
  {
   "cell_type": "code",
   "execution_count": 2,
   "id": "7991607e",
   "metadata": {},
   "outputs": [
    {
     "name": "stdout",
     "output_type": "stream",
     "text": [
      "(1, 2, 3)\n",
      "(1, 2, 4)\n",
      "(1, 3, 2)\n",
      "(1, 3, 4)\n",
      "(1, 4, 2)\n",
      "(1, 4, 3)\n",
      "(2, 1, 3)\n",
      "(2, 1, 4)\n",
      "(2, 3, 1)\n",
      "(2, 3, 4)\n",
      "(2, 4, 1)\n",
      "(2, 4, 3)\n",
      "(3, 1, 2)\n",
      "(3, 1, 4)\n",
      "(3, 2, 1)\n",
      "(3, 2, 4)\n",
      "(3, 4, 1)\n",
      "(3, 4, 2)\n",
      "(4, 1, 2)\n",
      "(4, 1, 3)\n",
      "(4, 2, 1)\n",
      "(4, 2, 3)\n",
      "(4, 3, 1)\n",
      "(4, 3, 2)\n"
     ]
    }
   ],
   "source": [
    "num=[1,2,3,4]\n",
    "\n",
    "from itertools import permutations\n",
    "for pailie in permutations(num,3):\n",
    "    print(pailie)\n"
   ]
  },
  {
   "cell_type": "markdown",
   "id": "b610d2d0",
   "metadata": {},
   "source": [
    "### from itertools import product\n",
    "多组之间相互组合"
   ]
  },
  {
   "cell_type": "code",
   "execution_count": 3,
   "id": "8a86e1cf",
   "metadata": {},
   "outputs": [
    {
     "name": "stdout",
     "output_type": "stream",
     "text": [
      "('kong', 'li')\n",
      "('kong', 'mai')\n",
      "('kong', 'qing')\n",
      "('wei', 'li')\n",
      "('wei', 'mai')\n",
      "('wei', 'qing')\n",
      "('yun', 'li')\n",
      "('yun', 'mai')\n",
      "('yun', 'qing')\n"
     ]
    }
   ],
   "source": [
    "from itertools import product\n",
    "\n",
    "my_name=['kong','wei','yun']\n",
    "mather_name=['li','mai','qing']\n",
    "\n",
    "for n in product(my_name,mather_name):\n",
    "    print(n)\n"
   ]
  },
  {
   "cell_type": "markdown",
   "id": "db170911",
   "metadata": {},
   "source": [
    "# Errors and Exception Handling 错误和异常处理"
   ]
  },
  {
   "cell_type": "code",
   "execution_count": 5,
   "id": "c0e2e378",
   "metadata": {},
   "outputs": [
    {
     "ename": "ValueError",
     "evalue": "could not convert string to float: 'something'",
     "output_type": "error",
     "traceback": [
      "\u001b[1;31m---------------------------------------------------------------------------\u001b[0m",
      "\u001b[1;31mValueError\u001b[0m                                Traceback (most recent call last)",
      "\u001b[1;32m~\\AppData\\Local\\Temp/ipykernel_6384/641199526.py\u001b[0m in \u001b[0;36m<module>\u001b[1;34m\u001b[0m\n\u001b[0;32m      1\u001b[0m \u001b[0mfloat\u001b[0m\u001b[1;33m(\u001b[0m\u001b[1;34m'1.2345'\u001b[0m\u001b[1;33m)\u001b[0m\u001b[1;33m\u001b[0m\u001b[1;33m\u001b[0m\u001b[0m\n\u001b[1;32m----> 2\u001b[1;33m \u001b[0mfloat\u001b[0m\u001b[1;33m(\u001b[0m\u001b[1;34m'something'\u001b[0m\u001b[1;33m)\u001b[0m\u001b[1;33m\u001b[0m\u001b[1;33m\u001b[0m\u001b[0m\n\u001b[0m",
      "\u001b[1;31mValueError\u001b[0m: could not convert string to float: 'something'"
     ]
    }
   ],
   "source": [
    "float('1.2345')# 正常\n",
    "float('something') # 出现ValueError"
   ]
  },
  {
   "cell_type": "markdown",
   "id": "b8be2b05",
   "metadata": {},
   "source": [
    "### 1.except 回避所有错误"
   ]
  },
  {
   "cell_type": "code",
   "execution_count": 19,
   "id": "bd8f14b1",
   "metadata": {},
   "outputs": [
    {
     "data": {
      "text/plain": [
       "'你好'"
      ]
     },
     "execution_count": 19,
     "metadata": {},
     "output_type": "execute_result"
    }
   ],
   "source": [
    "def attempt_float(x):\n",
    "    try:\n",
    "        return float(x)\n",
    "    except:\n",
    "        return x\n",
    "    \n",
    "attempt_float('12.3')\n",
    "\n",
    "attempt_float('你好')\n"
   ]
  },
  {
   "cell_type": "markdown",
   "id": "89417a4a",
   "metadata": {},
   "source": [
    "### 2.except AError 回避指定错误"
   ]
  },
  {
   "cell_type": "code",
   "execution_count": 21,
   "id": "6a239a4e",
   "metadata": {},
   "outputs": [
    {
     "name": "stdout",
     "output_type": "stream",
     "text": [
      "请输入浮点型数值\n"
     ]
    }
   ],
   "source": [
    "def attempt_float(x):\n",
    "    try:\n",
    "        return float(x)\n",
    "    except ValueError:\n",
    "        print('请输入浮点型数值')\n",
    "        \n",
    "attempt_float('你好')"
   ]
  },
  {
   "cell_type": "markdown",
   "id": "1e86d031",
   "metadata": {},
   "source": [
    "# 文件与操作系统\n",
    "## 三部分：存文件，读文件，关闭文件"
   ]
  },
  {
   "cell_type": "code",
   "execution_count": null,
   "id": "6465d7c0",
   "metadata": {},
   "outputs": [],
   "source": []
  }
 ],
 "metadata": {
  "kernelspec": {
   "display_name": "Python 3 (ipykernel)",
   "language": "python",
   "name": "python3"
  },
  "language_info": {
   "codemirror_mode": {
    "name": "ipython",
    "version": 3
   },
   "file_extension": ".py",
   "mimetype": "text/x-python",
   "name": "python",
   "nbconvert_exporter": "python",
   "pygments_lexer": "ipython3",
   "version": "3.9.7"
  }
 },
 "nbformat": 4,
 "nbformat_minor": 5
}
