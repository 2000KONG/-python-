{
 "cells": [
  {
   "cell_type": "markdown",
   "id": "ae995bb7",
   "metadata": {},
   "source": [
    "# 第一章"
   ]
  },
  {
   "cell_type": "markdown",
   "id": "745de40b",
   "metadata": {},
   "source": [
    "# 列表 元组 字典\n",
    "* 列表 可读可改   索引方式：坐标\n",
    "* 字典 可读可改   索引方式：key\n",
    "* 元组 只读不改   索引方式:坐标"
   ]
  },
  {
   "cell_type": "markdown",
   "id": "5a15e021",
   "metadata": {},
   "source": [
    "列表"
   ]
  },
  {
   "cell_type": "code",
   "execution_count": 1,
   "id": "7986a06a",
   "metadata": {},
   "outputs": [],
   "source": [
    "list_name=['孔','维','云']"
   ]
  },
  {
   "cell_type": "code",
   "execution_count": 2,
   "id": "16c7accd",
   "metadata": {},
   "outputs": [
    {
     "data": {
      "text/plain": [
       "'孔'"
      ]
     },
     "execution_count": 2,
     "metadata": {},
     "output_type": "execute_result"
    }
   ],
   "source": [
    "list_name[0]"
   ]
  },
  {
   "cell_type": "code",
   "execution_count": 3,
   "id": "23c685f0",
   "metadata": {},
   "outputs": [],
   "source": [
    "list_name[2]='龙'"
   ]
  },
  {
   "cell_type": "code",
   "execution_count": 4,
   "id": "58cb0cdd",
   "metadata": {},
   "outputs": [
    {
     "data": {
      "text/plain": [
       "['孔', '维', '龙']"
      ]
     },
     "execution_count": 4,
     "metadata": {},
     "output_type": "execute_result"
    }
   ],
   "source": [
    "list_name"
   ]
  },
  {
   "cell_type": "markdown",
   "id": "089d50c7",
   "metadata": {},
   "source": [
    "字典"
   ]
  },
  {
   "cell_type": "code",
   "execution_count": 5,
   "id": "99cf3e23",
   "metadata": {},
   "outputs": [],
   "source": [
    "dic_name={'姓氏':'孔','名字':'维云'}"
   ]
  },
  {
   "cell_type": "code",
   "execution_count": 6,
   "id": "33768eeb",
   "metadata": {},
   "outputs": [
    {
     "data": {
      "text/plain": [
       "'孔'"
      ]
     },
     "execution_count": 6,
     "metadata": {},
     "output_type": "execute_result"
    }
   ],
   "source": [
    "dic_name['姓氏']"
   ]
  },
  {
   "cell_type": "code",
   "execution_count": 7,
   "id": "ea5d333f",
   "metadata": {},
   "outputs": [],
   "source": [
    "dic_name['名字']='维龙'"
   ]
  },
  {
   "cell_type": "code",
   "execution_count": 8,
   "id": "9ed1a3af",
   "metadata": {},
   "outputs": [
    {
     "data": {
      "text/plain": [
       "{'姓氏': '孔', '名字': '维龙'}"
      ]
     },
     "execution_count": 8,
     "metadata": {},
     "output_type": "execute_result"
    }
   ],
   "source": [
    "dic_name"
   ]
  },
  {
   "cell_type": "markdown",
   "id": "c9cc0e7d",
   "metadata": {},
   "source": [
    "元组"
   ]
  },
  {
   "cell_type": "code",
   "execution_count": 9,
   "id": "148dd5da",
   "metadata": {},
   "outputs": [],
   "source": [
    "tuple_name=('孔','维','云')"
   ]
  },
  {
   "cell_type": "code",
   "execution_count": 10,
   "id": "939edc5e",
   "metadata": {},
   "outputs": [
    {
     "data": {
      "text/plain": [
       "'孔'"
      ]
     },
     "execution_count": 10,
     "metadata": {},
     "output_type": "execute_result"
    }
   ],
   "source": [
    "tuple_name[0]"
   ]
  },
  {
   "cell_type": "code",
   "execution_count": 11,
   "id": "db42dba9",
   "metadata": {
    "scrolled": true
   },
   "outputs": [
    {
     "ename": "TypeError",
     "evalue": "'tuple' object does not support item assignment",
     "output_type": "error",
     "traceback": [
      "\u001b[1;31m---------------------------------------------------------------------------\u001b[0m",
      "\u001b[1;31mTypeError\u001b[0m                                 Traceback (most recent call last)",
      "\u001b[1;32m~\\AppData\\Local\\Temp/ipykernel_8128/4242803336.py\u001b[0m in \u001b[0;36m<module>\u001b[1;34m\u001b[0m\n\u001b[1;32m----> 1\u001b[1;33m \u001b[0mtuple_name\u001b[0m\u001b[1;33m[\u001b[0m\u001b[1;36m0\u001b[0m\u001b[1;33m]\u001b[0m\u001b[1;33m=\u001b[0m\u001b[1;34m'刘'\u001b[0m\u001b[1;33m\u001b[0m\u001b[1;33m\u001b[0m\u001b[0m\n\u001b[0m",
      "\u001b[1;31mTypeError\u001b[0m: 'tuple' object does not support item assignment"
     ]
    }
   ],
   "source": [
    "tuple_name[0]='刘'"
   ]
  },
  {
   "cell_type": "markdown",
   "id": "c9b7776c",
   "metadata": {},
   "source": [
    "# 文件操作 \n",
    "\n",
    "open（）  注意：非数字型文本读取的时候需要加：encoding='UTF-8'\n",
    "file（）  \n",
    "readlines（）  \n",
    "close（） 注意:读取结束后，要记得关闭文件\n",
    "\n",
    "## 常用的\n",
    "\n",
    "r：读取  \n",
    "w：写入  \n",
    "a：添加  \n",
    "+：读写  \n",
    "b：二进制访问\n"
   ]
  },
  {
   "cell_type": "markdown",
   "id": "b2df8345",
   "metadata": {},
   "source": [
    "### 读文件\n",
    "\n",
    "* new_name=open(file_name,'r')\n",
    "* with open（file_name）as name"
   ]
  },
  {
   "cell_type": "code",
   "execution_count": 12,
   "id": "ab239355",
   "metadata": {},
   "outputs": [],
   "source": [
    "file_name='test_one.txt'"
   ]
  },
  {
   "cell_type": "code",
   "execution_count": 13,
   "id": "bd75c39f",
   "metadata": {},
   "outputs": [
    {
     "name": "stdout",
     "output_type": "stream",
     "text": [
      "123\n"
     ]
    }
   ],
   "source": [
    "hfile=open(file_name,'r')\n",
    "for nline in hfile:\n",
    "    print(nline)"
   ]
  },
  {
   "cell_type": "code",
   "execution_count": 14,
   "id": "24b942b8",
   "metadata": {},
   "outputs": [],
   "source": [
    "hfile.close()"
   ]
  },
  {
   "cell_type": "markdown",
   "id": "2f3da877",
   "metadata": {},
   "source": [
    "### 存文件"
   ]
  },
  {
   "cell_type": "code",
   "execution_count": 15,
   "id": "2976141a",
   "metadata": {},
   "outputs": [
    {
     "name": "stdout",
     "output_type": "stream",
     "text": [
      "Overwriting test_two.txt\n"
     ]
    }
   ],
   "source": [
    "%%writefile test_two.txt\n",
    "hello\n",
    "world!"
   ]
  },
  {
   "cell_type": "code",
   "execution_count": 16,
   "id": "69202b06",
   "metadata": {},
   "outputs": [
    {
     "name": "stdout",
     "output_type": "stream",
     "text": [
      "hello\n",
      "\n",
      "world!\n",
      "\n"
     ]
    }
   ],
   "source": [
    "with open('test_two.txt',encoding='UTF-8') as f:\n",
    "    for i in f:\n",
    "        print(i)\n",
    "    \n"
   ]
  },
  {
   "cell_type": "markdown",
   "id": "3ea298b7",
   "metadata": {},
   "source": [
    "# 错误处理\n",
    "\n",
    "try:  \n",
    "\n",
    "expect 错误名字:\n",
    "    遇到错误名的处理方式\n",
    "\n",
    "else:"
   ]
  },
  {
   "cell_type": "code",
   "execution_count": 17,
   "id": "724f8585",
   "metadata": {},
   "outputs": [
    {
     "ename": "ZeroDivisionError",
     "evalue": "division by zero",
     "output_type": "error",
     "traceback": [
      "\u001b[1;31m---------------------------------------------------------------------------\u001b[0m",
      "\u001b[1;31mZeroDivisionError\u001b[0m                         Traceback (most recent call last)",
      "\u001b[1;32m~\\AppData\\Local\\Temp/ipykernel_8128/2590173015.py\u001b[0m in \u001b[0;36m<module>\u001b[1;34m\u001b[0m\n\u001b[1;32m----> 1\u001b[1;33m \u001b[1;36m6\u001b[0m\u001b[1;33m/\u001b[0m\u001b[1;36m0\u001b[0m\u001b[1;33m\u001b[0m\u001b[1;33m\u001b[0m\u001b[0m\n\u001b[0m",
      "\u001b[1;31mZeroDivisionError\u001b[0m: division by zero"
     ]
    }
   ],
   "source": [
    "6/0"
   ]
  },
  {
   "cell_type": "code",
   "execution_count": null,
   "id": "f29eff51",
   "metadata": {},
   "outputs": [],
   "source": [
    "a=6\n",
    "b=input('input a number')\n",
    "try:\n",
    "    c=a/int(b)\n",
    "except ZeroDivisionError :\n",
    "    print('除数不能为0')\n",
    "else:\n",
    "    print(c)\n",
    "\n",
    "    "
   ]
  },
  {
   "cell_type": "markdown",
   "id": "1bf3d946",
   "metadata": {},
   "source": [
    "# 函数"
   ]
  },
  {
   "cell_type": "code",
   "execution_count": null,
   "id": "81d5c2fe",
   "metadata": {},
   "outputs": [],
   "source": [
    "def math_add(a,b):\n",
    "    c=a+b\n",
    "    return c\n"
   ]
  },
  {
   "cell_type": "code",
   "execution_count": null,
   "id": "1a946ef7",
   "metadata": {},
   "outputs": [],
   "source": [
    "math_add(1,2)"
   ]
  },
  {
   "cell_type": "markdown",
   "id": "7f49c47c",
   "metadata": {},
   "source": [
    "# 第二章"
   ]
  },
  {
   "cell_type": "markdown",
   "id": "87848d99",
   "metadata": {},
   "source": [
    "### 数据类型 \n",
    "\n",
    "##### int ：整型     \n",
    "\n",
    "\n",
    "    / 结果为浮点数   \n",
    "    // 取整  (结果为int型)\n",
    "    %  取余  （结果为int型）\n",
    "\n",
    "##### float ：浮点型\n",
    "\n",
    "##### complex： 复数  \n",
    "\n",
    "    * a+bj\n",
    "    * complex(a,b)\n",
    "      \n",
    "##### 常量    \n",
    "\n",
    "    * pi  \n",
    "    * e"
   ]
  },
  {
   "cell_type": "code",
   "execution_count": 18,
   "id": "8fc8e10f",
   "metadata": {},
   "outputs": [
    {
     "name": "stdout",
     "output_type": "stream",
     "text": [
      "3.0 3 2\n"
     ]
    }
   ],
   "source": [
    "print(6/2,6//2,6%4)"
   ]
  },
  {
   "cell_type": "code",
   "execution_count": 19,
   "id": "24523c3f",
   "metadata": {},
   "outputs": [
    {
     "data": {
      "text/plain": [
       "complex"
      ]
     },
     "execution_count": 19,
     "metadata": {},
     "output_type": "execute_result"
    }
   ],
   "source": [
    "a=3+2j\n",
    "type(a)"
   ]
  },
  {
   "cell_type": "markdown",
   "id": "6fd37dfc",
   "metadata": {},
   "source": [
    "# 字符串操作\n",
    "\n",
    "'+ ': 拼接"
   ]
  },
  {
   "cell_type": "code",
   "execution_count": 20,
   "id": "9fe73e65",
   "metadata": {},
   "outputs": [],
   "source": [
    "name_one='kong '\n",
    "name_two='wei yun'\n",
    "name_total=name_one+name_two"
   ]
  },
  {
   "cell_type": "code",
   "execution_count": 21,
   "id": "3de5fd0a",
   "metadata": {},
   "outputs": [
    {
     "data": {
      "text/plain": [
       "'kong wei yun'"
      ]
     },
     "execution_count": 21,
     "metadata": {},
     "output_type": "execute_result"
    }
   ],
   "source": [
    "name_total"
   ]
  },
  {
   "cell_type": "markdown",
   "id": "d22dc50d",
   "metadata": {},
   "source": [
    "# 第三章 数据结构 \n",
    "\n",
    "#### 常用数据结构\n",
    "\n",
    "* 列表 \n",
    "* 元组 \n",
    "\n",
    "#### 序列操作方式\n",
    "\n",
    "* 索引\n",
    "* 切片  左闭右开\n",
    "* 序列相加\n",
    "* 乘法\n",
    "* 成员资格 （in or not in）\n",
    "* 长度 len（）\n",
    "* 最小值min（），最大值max（）"
   ]
  },
  {
   "cell_type": "markdown",
   "id": "4e95378e",
   "metadata": {},
   "source": [
    "#### 索引\n"
   ]
  },
  {
   "cell_type": "code",
   "execution_count": 22,
   "id": "d3df0794",
   "metadata": {},
   "outputs": [],
   "source": [
    "num_list=[1,2,3]\n",
    "num_tuple=(1,2,3)"
   ]
  },
  {
   "cell_type": "code",
   "execution_count": 23,
   "id": "bc04c22c",
   "metadata": {},
   "outputs": [
    {
     "data": {
      "text/plain": [
       "3"
      ]
     },
     "execution_count": 23,
     "metadata": {},
     "output_type": "execute_result"
    }
   ],
   "source": [
    "num_list[2]"
   ]
  },
  {
   "cell_type": "code",
   "execution_count": 24,
   "id": "02eb5e52",
   "metadata": {},
   "outputs": [
    {
     "data": {
      "text/plain": [
       "3"
      ]
     },
     "execution_count": 24,
     "metadata": {},
     "output_type": "execute_result"
    }
   ],
   "source": [
    "num_tuple[2]"
   ]
  },
  {
   "cell_type": "markdown",
   "id": "51c89055",
   "metadata": {},
   "source": [
    "#### 切片"
   ]
  },
  {
   "cell_type": "code",
   "execution_count": 25,
   "id": "c010bbbe",
   "metadata": {},
   "outputs": [
    {
     "data": {
      "text/plain": [
       "[2, 3]"
      ]
     },
     "execution_count": 25,
     "metadata": {},
     "output_type": "execute_result"
    }
   ],
   "source": [
    "num_list[1:3]"
   ]
  },
  {
   "cell_type": "code",
   "execution_count": 26,
   "id": "8e6c4a81",
   "metadata": {},
   "outputs": [
    {
     "data": {
      "text/plain": [
       "(2, 3)"
      ]
     },
     "execution_count": 26,
     "metadata": {},
     "output_type": "execute_result"
    }
   ],
   "source": [
    "num_tuple[1:3]"
   ]
  },
  {
   "cell_type": "markdown",
   "id": "32761fe6",
   "metadata": {},
   "source": [
    "#### 序列相加"
   ]
  },
  {
   "cell_type": "code",
   "execution_count": 27,
   "id": "e62d8649",
   "metadata": {},
   "outputs": [
    {
     "data": {
      "text/plain": [
       "[1, 2, 3, 4, 5, 6]"
      ]
     },
     "execution_count": 27,
     "metadata": {},
     "output_type": "execute_result"
    }
   ],
   "source": [
    "num_list_one=[1,2,3]\n",
    "num_list_two=[4,5,6]\n",
    "num_list_all=num_list_one+num_list_two\n",
    "num_list_all"
   ]
  },
  {
   "cell_type": "code",
   "execution_count": 28,
   "id": "a78fb85f",
   "metadata": {},
   "outputs": [
    {
     "data": {
      "text/plain": [
       "(1, 2, 3, 4, 5, 6)"
      ]
     },
     "execution_count": 28,
     "metadata": {},
     "output_type": "execute_result"
    }
   ],
   "source": [
    "num_tuple_one=(1,2,3)\n",
    "num_tuple_two=(4,5,6)\n",
    "num_tuple_all=num_tuple_one+num_tuple_two\n",
    "num_tuple_all"
   ]
  },
  {
   "cell_type": "markdown",
   "id": "ccff023e",
   "metadata": {},
   "source": [
    "#### 乘法(复制)"
   ]
  },
  {
   "cell_type": "code",
   "execution_count": 29,
   "id": "33284b84",
   "metadata": {},
   "outputs": [
    {
     "data": {
      "text/plain": [
       "[1, 2, 3, 1, 2, 3, 1, 2, 3]"
      ]
     },
     "execution_count": 29,
     "metadata": {},
     "output_type": "execute_result"
    }
   ],
   "source": [
    "num_list_one*3"
   ]
  },
  {
   "cell_type": "code",
   "execution_count": 30,
   "id": "8b190f24",
   "metadata": {},
   "outputs": [
    {
     "data": {
      "text/plain": [
       "(1, 2, 3, 1, 2, 3, 1, 2, 3)"
      ]
     },
     "execution_count": 30,
     "metadata": {},
     "output_type": "execute_result"
    }
   ],
   "source": [
    "num_tuple_one*3"
   ]
  },
  {
   "cell_type": "code",
   "execution_count": 31,
   "id": "0c5e55ae",
   "metadata": {},
   "outputs": [
    {
     "data": {
      "text/plain": [
       "True"
      ]
     },
     "execution_count": 31,
     "metadata": {},
     "output_type": "execute_result"
    }
   ],
   "source": [
    " 1 in num_list_one"
   ]
  },
  {
   "cell_type": "code",
   "execution_count": 32,
   "id": "6496c159",
   "metadata": {},
   "outputs": [
    {
     "data": {
      "text/plain": [
       "True"
      ]
     },
     "execution_count": 32,
     "metadata": {},
     "output_type": "execute_result"
    }
   ],
   "source": [
    "1 in num_tuple_one"
   ]
  },
  {
   "cell_type": "markdown",
   "id": "78ed5a2f",
   "metadata": {},
   "source": [
    "##### 小练习1"
   ]
  },
  {
   "cell_type": "code",
   "execution_count": 33,
   "id": "c3a06b36",
   "metadata": {},
   "outputs": [],
   "source": [
    "field=[\n",
    "    ['hello','world','welcome'],\n",
    "    ['study','python','is','funny'],\n",
    "    ['good','better','best']\n",
    "]"
   ]
  },
  {
   "cell_type": "code",
   "execution_count": 34,
   "id": "2e2e0060",
   "metadata": {},
   "outputs": [
    {
     "name": "stdout",
     "output_type": "stream",
     "text": [
      "hello\n"
     ]
    }
   ],
   "source": [
    "# 打印 hello：\n",
    "print(field[0][0])"
   ]
  },
  {
   "cell_type": "code",
   "execution_count": 35,
   "id": "15d20a7d",
   "metadata": {},
   "outputs": [
    {
     "name": "stdout",
     "output_type": "stream",
     "text": [
      "python\n"
     ]
    }
   ],
   "source": [
    "# 打印 python：\n",
    "print(field[1][1])"
   ]
  },
  {
   "cell_type": "code",
   "execution_count": 36,
   "id": "c165a331",
   "metadata": {},
   "outputs": [
    {
     "name": "stdout",
     "output_type": "stream",
     "text": [
      "best\n"
     ]
    }
   ],
   "source": [
    "# 打印 best：\n",
    "print(field[2][2])"
   ]
  },
  {
   "cell_type": "markdown",
   "id": "70fc0b1e",
   "metadata": {},
   "source": [
    "##### 小练习2"
   ]
  },
  {
   "cell_type": "code",
   "execution_count": 37,
   "id": "31a08ade",
   "metadata": {},
   "outputs": [],
   "source": [
    "list1=['life','is','short']\n",
    "list2=['you','need','python']"
   ]
  },
  {
   "cell_type": "code",
   "execution_count": 38,
   "id": "39813b1f",
   "metadata": {},
   "outputs": [
    {
     "name": "stdout",
     "output_type": "stream",
     "text": [
      "python 2\n"
     ]
    }
   ],
   "source": [
    "# 1）输出python及其下标\n",
    "print(list2[2],list2.index('python'))"
   ]
  },
  {
   "cell_type": "code",
   "execution_count": 39,
   "id": "eb0d7e4c",
   "metadata": {},
   "outputs": [
    {
     "data": {
      "text/plain": [
       "['life', 'is', 'short', ',']"
      ]
     },
     "execution_count": 39,
     "metadata": {},
     "output_type": "execute_result"
    }
   ],
   "source": [
    "# 2）list2 后追加！ list1 后追加，\n",
    "n=list1.index('short')\n",
    "list1.insert(n+1,',')\n",
    "list1"
   ]
  },
  {
   "cell_type": "code",
   "execution_count": 40,
   "id": "536b2ff0",
   "metadata": {},
   "outputs": [
    {
     "data": {
      "text/plain": [
       "['you', 'need', 'python', '!']"
      ]
     },
     "execution_count": 40,
     "metadata": {},
     "output_type": "execute_result"
    }
   ],
   "source": [
    "m=list2.index('python')\n",
    "list2.insert(m+1,'!')\n",
    "list2"
   ]
  },
  {
   "cell_type": "code",
   "execution_count": 41,
   "id": "1b51a9b6",
   "metadata": {},
   "outputs": [
    {
     "data": {
      "text/plain": [
       "8"
      ]
     },
     "execution_count": 41,
     "metadata": {},
     "output_type": "execute_result"
    }
   ],
   "source": [
    "# 3）将两个字符串合并后，排序并输出长度\n",
    "list1.extend(list2)\n",
    "len(list1)"
   ]
  },
  {
   "cell_type": "code",
   "execution_count": 42,
   "id": "8eb37bfa",
   "metadata": {},
   "outputs": [
    {
     "name": "stdout",
     "output_type": "stream",
     "text": [
      "['!', ',', 'is', 'life', 'need', 'python', 'short', 'you'] None\n"
     ]
    }
   ],
   "source": [
    "print(list1,list1.sort()) # 按照首字母的ascii码进行排序"
   ]
  },
  {
   "cell_type": "code",
   "execution_count": 43,
   "id": "3111c406",
   "metadata": {},
   "outputs": [
    {
     "data": {
      "text/plain": [
       "['you', 'need', 'python3', '!']"
      ]
     },
     "execution_count": 43,
     "metadata": {},
     "output_type": "execute_result"
    }
   ],
   "source": [
    "# 4） 将 python 改为 python3\n",
    "n=list2.index('python')\n",
    "list2[n]='python3'\n",
    "list2"
   ]
  },
  {
   "cell_type": "code",
   "execution_count": 44,
   "id": "fe7efaec",
   "metadata": {},
   "outputs": [],
   "source": [
    "# 5) 移除之前添加的'!'和','\n",
    "list1=['life','is','short',',']\n",
    "list2=['you','need','python','!']\n",
    "list1.remove(',')\n",
    "x=list2.index('!')\n",
    "list2.remove(list2[x])"
   ]
  },
  {
   "cell_type": "code",
   "execution_count": 45,
   "id": "69080e8f",
   "metadata": {},
   "outputs": [
    {
     "data": {
      "text/plain": [
       "['life', 'is', 'short']"
      ]
     },
     "execution_count": 45,
     "metadata": {},
     "output_type": "execute_result"
    }
   ],
   "source": [
    "list1"
   ]
  },
  {
   "cell_type": "code",
   "execution_count": 46,
   "id": "627b66db",
   "metadata": {},
   "outputs": [
    {
     "data": {
      "text/plain": [
       "['you', 'need', 'python']"
      ]
     },
     "execution_count": 46,
     "metadata": {},
     "output_type": "execute_result"
    }
   ],
   "source": [
    "list2"
   ]
  },
  {
   "cell_type": "markdown",
   "id": "b69b6de2",
   "metadata": {},
   "source": [
    "# 第四章"
   ]
  },
  {
   "cell_type": "markdown",
   "id": "71c93b52",
   "metadata": {},
   "source": [
    "字符串的基本操作\n",
    "* 创建 索引 分片\n",
    "* 格式化 分割 搜索"
   ]
  },
  {
   "cell_type": "code",
   "execution_count": 47,
   "id": "7876e83c",
   "metadata": {},
   "outputs": [],
   "source": [
    "# 创建\n",
    "my_string='kong wei yun'"
   ]
  },
  {
   "cell_type": "code",
   "execution_count": 48,
   "id": "6f446c80",
   "metadata": {},
   "outputs": [
    {
     "data": {
      "text/plain": [
       "3"
      ]
     },
     "execution_count": 48,
     "metadata": {},
     "output_type": "execute_result"
    }
   ],
   "source": [
    "# 索引\n",
    "my_string.index('g')"
   ]
  },
  {
   "cell_type": "code",
   "execution_count": 49,
   "id": "08b7aa69",
   "metadata": {},
   "outputs": [
    {
     "data": {
      "text/plain": [
       "'g wei yu'"
      ]
     },
     "execution_count": 49,
     "metadata": {},
     "output_type": "execute_result"
    }
   ],
   "source": [
    "# 分片\n",
    "my_string[3:-1]"
   ]
  },
  {
   "cell_type": "code",
   "execution_count": 50,
   "id": "4cf9d925",
   "metadata": {},
   "outputs": [
    {
     "ename": "TypeError",
     "evalue": "'str' object does not support item assignment",
     "output_type": "error",
     "traceback": [
      "\u001b[1;31m---------------------------------------------------------------------------\u001b[0m",
      "\u001b[1;31mTypeError\u001b[0m                                 Traceback (most recent call last)",
      "\u001b[1;32m~\\AppData\\Local\\Temp/ipykernel_8128/1247476926.py\u001b[0m in \u001b[0;36m<module>\u001b[1;34m\u001b[0m\n\u001b[0;32m      1\u001b[0m \u001b[1;31m# 分片不可赋值\u001b[0m\u001b[1;33m\u001b[0m\u001b[1;33m\u001b[0m\u001b[0m\n\u001b[1;32m----> 2\u001b[1;33m \u001b[0mmy_string\u001b[0m\u001b[1;33m[\u001b[0m\u001b[1;36m3\u001b[0m\u001b[1;33m:\u001b[0m\u001b[1;33m-\u001b[0m\u001b[1;36m1\u001b[0m\u001b[1;33m]\u001b[0m\u001b[1;33m=\u001b[0m\u001b[1;34m'hello'\u001b[0m\u001b[1;33m\u001b[0m\u001b[1;33m\u001b[0m\u001b[0m\n\u001b[0m",
      "\u001b[1;31mTypeError\u001b[0m: 'str' object does not support item assignment"
     ]
    }
   ],
   "source": [
    "# 分片不可赋值\n",
    "my_string[3:-1]='hello'"
   ]
  },
  {
   "cell_type": "code",
   "execution_count": null,
   "id": "737d1e78",
   "metadata": {},
   "outputs": [],
   "source": [
    "# 格式化  %s  %d %f\n",
    "print('hello,%s' %'world')"
   ]
  },
  {
   "cell_type": "code",
   "execution_count": null,
   "id": "a68b0923",
   "metadata": {},
   "outputs": [],
   "source": [
    "print('我几年%d岁了' %5)"
   ]
  },
  {
   "cell_type": "code",
   "execution_count": null,
   "id": "4fb6623e",
   "metadata": {},
   "outputs": [],
   "source": [
    "print('今年是%d年，中国女排夺得本届奥运会%s，至此中国共获%d枚金牌' %(2022,'金牌',26))"
   ]
  },
  {
   "cell_type": "markdown",
   "id": "b3f17823",
   "metadata": {},
   "source": [
    "#### 字符串方法\n",
    "* find\n",
    "* join\n",
    "* lower\n",
    "* upper\n",
    "* s\n",
    "* replace\n",
    "* split\n",
    "* strip\n",
    "* translate"
   ]
  },
  {
   "cell_type": "code",
   "execution_count": null,
   "id": "a97a575f",
   "metadata": {},
   "outputs": [],
   "source": [
    "my_string='hello,goodmorning'\n",
    "my_string.find('hello')"
   ]
  },
  {
   "cell_type": "code",
   "execution_count": null,
   "id": "d06dbfed",
   "metadata": {},
   "outputs": [],
   "source": [
    "my_string.find('nihao')"
   ]
  },
  {
   "cell_type": "code",
   "execution_count": null,
   "id": "f3783505",
   "metadata": {},
   "outputs": [],
   "source": [
    "my_string.lower()"
   ]
  },
  {
   "cell_type": "code",
   "execution_count": null,
   "id": "e5d967e2",
   "metadata": {},
   "outputs": [],
   "source": [
    "my_string.upper()"
   ]
  },
  {
   "cell_type": "code",
   "execution_count": null,
   "id": "00d8ceb1",
   "metadata": {},
   "outputs": [],
   "source": [
    "my_string.split(',')"
   ]
  },
  {
   "cell_type": "code",
   "execution_count": null,
   "id": "4aa79f68",
   "metadata": {},
   "outputs": [],
   "source": [
    "n_string='q,w,e,r,t,y,u,i,o,p'\n",
    "n_string.strip(',')"
   ]
  },
  {
   "cell_type": "code",
   "execution_count": null,
   "id": "5b18e795",
   "metadata": {},
   "outputs": [],
   "source": [
    "w_string=' nihao '\n",
    "w_string.strip()"
   ]
  },
  {
   "cell_type": "code",
   "execution_count": null,
   "id": "27956697",
   "metadata": {},
   "outputs": [],
   "source": [
    "name_1=input('please input a name:')\n",
    "name_2=input('please input a name：')\n",
    "print('{}和{}是朋友'.format(name_1,name_2))"
   ]
  },
  {
   "cell_type": "markdown",
   "id": "a7bab1cd",
   "metadata": {},
   "source": [
    "# 第五章\n",
    "\n",
    "字典\n",
    "* student={}\n",
    "* dict(student)"
   ]
  },
  {
   "cell_type": "code",
   "execution_count": null,
   "id": "c31ca941",
   "metadata": {},
   "outputs": [],
   "source": [
    "student={'小萌':1001,'小华':1000}"
   ]
  },
  {
   "cell_type": "code",
   "execution_count": null,
   "id": "a35e2c02",
   "metadata": {},
   "outputs": [],
   "source": [
    "student['小华']"
   ]
  },
  {
   "cell_type": "code",
   "execution_count": null,
   "id": "befe31e5",
   "metadata": {},
   "outputs": [],
   "source": [
    "students=[\n",
    "    ('name','xiaomeng'),('number','1001')\n",
    "]\n",
    "detail=dict(students)"
   ]
  },
  {
   "cell_type": "code",
   "execution_count": null,
   "id": "c61afacd",
   "metadata": {},
   "outputs": [],
   "source": [
    "detail"
   ]
  },
  {
   "cell_type": "markdown",
   "id": "899b12c2",
   "metadata": {},
   "source": [
    "#### 基本的字典操作\n",
    "* 修改字典值\n",
    "* 删除字典元素\n",
    "* 字典键的特性 键具有不变性，所以可以用数字，字符串或者元组，但是不能用列表\n",
    "* len: 键的个数\n",
    "* type() : 查看变量类型\n",
    "* 格式化，%d，%s  变成%(value)d  %(value)s"
   ]
  },
  {
   "cell_type": "code",
   "execution_count": null,
   "id": "5beea670",
   "metadata": {},
   "outputs": [],
   "source": [
    "# 修改字典值\n",
    "student={'小萌':'1001','小智':'1002','小强':'1003'}\n",
    "student['小强']=1004\n",
    "# 新增一个key 和 value 值\n",
    "student['小红']='1005'"
   ]
  },
  {
   "cell_type": "code",
   "execution_count": null,
   "id": "395bba05",
   "metadata": {},
   "outputs": [],
   "source": [
    "student"
   ]
  },
  {
   "cell_type": "code",
   "execution_count": null,
   "id": "768f1468",
   "metadata": {},
   "outputs": [],
   "source": [
    "# 删除字典元素值\n",
    "del student['小萌']\n",
    "student"
   ]
  },
  {
   "cell_type": "code",
   "execution_count": null,
   "id": "68ed78a6",
   "metadata": {},
   "outputs": [],
   "source": [
    "# 测试键的特点\n",
    "name={1:10,'string':'hello world!',(6,6,6):(7,7,7)}\n",
    "name"
   ]
  },
  {
   "cell_type": "code",
   "execution_count": null,
   "id": "83e5f147",
   "metadata": {},
   "outputs": [],
   "source": [
    "name[[123]]='123'\n",
    "name"
   ]
  },
  {
   "cell_type": "code",
   "execution_count": null,
   "id": "2e5dfc3c",
   "metadata": {},
   "outputs": [],
   "source": [
    "name"
   ]
  },
  {
   "cell_type": "code",
   "execution_count": null,
   "id": "89fc7727",
   "metadata": {},
   "outputs": [],
   "source": [
    "# len\n",
    "len(name)"
   ]
  },
  {
   "cell_type": "code",
   "execution_count": null,
   "id": "360f0083",
   "metadata": {},
   "outputs": [],
   "source": [
    "# 字典的格式化\n",
    "print('小强的学号是%(小强)d'%student)"
   ]
  },
  {
   "cell_type": "markdown",
   "id": "94a0516d",
   "metadata": {},
   "source": [
    "#### 字典方法\n",
    "* clear\n",
    "* copy\n",
    "* info=dict.fromkeys(key,value)\n",
    "* dict_name.get('key_name',default=None)  查找某个键的值，若键不存在，则返回none\n",
    "* key in dict  返回值 true or false\n",
    "* dict.items() 遍历\n",
    "* dict.keys() 返回key的列表\n",
    "* dict.values() 返回values的列表\n",
    "* dict_old.update(dict_new) 将新的dict内容(dict_new)更新到老的内容中(dict_old) "
   ]
  },
  {
   "cell_type": "code",
   "execution_count": null,
   "id": "5aae732f",
   "metadata": {},
   "outputs": [],
   "source": [
    "# clear\n",
    "student={'小萌':'1001','小智':'1002','小强':'1003'}\n",
    "len(student)"
   ]
  },
  {
   "cell_type": "code",
   "execution_count": null,
   "id": "cb015fc7",
   "metadata": {},
   "outputs": [],
   "source": [
    "student.clear()"
   ]
  },
  {
   "cell_type": "code",
   "execution_count": null,
   "id": "a703c410",
   "metadata": {},
   "outputs": [],
   "source": [
    "len(student)"
   ]
  },
  {
   "cell_type": "code",
   "execution_count": null,
   "id": "43c9aab6",
   "metadata": {},
   "outputs": [],
   "source": [
    "# copy\n",
    "student={'小萌':'1001','小智':'1002','小强':'1003'}\n",
    "student_one=student.copy()"
   ]
  },
  {
   "cell_type": "code",
   "execution_count": null,
   "id": "13eb159a",
   "metadata": {},
   "outputs": [],
   "source": [
    "student_one"
   ]
  },
  {
   "cell_type": "code",
   "execution_count": null,
   "id": "968e7d1f",
   "metadata": {},
   "outputs": [],
   "source": [
    "key_name=('小萌','小智','小强')\n",
    "value_name=(1001,1002,1003)\n",
    "info=dict.fromkeys(key_name,value_name)\n",
    "info"
   ]
  },
  {
   "cell_type": "code",
   "execution_count": null,
   "id": "e6e2002b",
   "metadata": {},
   "outputs": [],
   "source": [
    "# get\n",
    "student.get('小萌')"
   ]
  },
  {
   "cell_type": "code",
   "execution_count": null,
   "id": "34dbcd58",
   "metadata": {},
   "outputs": [],
   "source": [
    "student"
   ]
  },
  {
   "cell_type": "code",
   "execution_count": null,
   "id": "200e2efe",
   "metadata": {},
   "outputs": [],
   "source": [
    "'小萌' in student"
   ]
  },
  {
   "cell_type": "code",
   "execution_count": null,
   "id": "fc579b3d",
   "metadata": {},
   "outputs": [],
   "source": [
    "student.items()"
   ]
  },
  {
   "cell_type": "code",
   "execution_count": null,
   "id": "7bb1b444",
   "metadata": {},
   "outputs": [],
   "source": [
    "student.keys()"
   ]
  },
  {
   "cell_type": "code",
   "execution_count": null,
   "id": "2f8580ab",
   "metadata": {},
   "outputs": [],
   "source": [
    "student.values()"
   ]
  },
  {
   "cell_type": "code",
   "execution_count": null,
   "id": "59cebe13",
   "metadata": {},
   "outputs": [],
   "source": [
    "# update\n",
    "student={'小萌':'1001','小智':'1002','小强':'1003'}\n",
    "student_new={'小萌':'1000','小智':'1002','小强':'1003','小兰':'1004'}\n",
    "student.update(student_new)\n",
    "student"
   ]
  },
  {
   "cell_type": "code",
   "execution_count": null,
   "id": "e1f28250",
   "metadata": {},
   "outputs": [],
   "source": [
    "personal_formation={'name':'li hua','phone':1234567,'add':'三亚崖州湾科技城'}"
   ]
  },
  {
   "cell_type": "code",
   "execution_count": null,
   "id": "3e4b51e4",
   "metadata": {},
   "outputs": [],
   "source": [
    "personal_formation['name']"
   ]
  },
  {
   "cell_type": "markdown",
   "id": "c206b2dd",
   "metadata": {},
   "source": [
    "####  练习"
   ]
  },
  {
   "cell_type": "code",
   "execution_count": null,
   "id": "725c11df",
   "metadata": {},
   "outputs": [],
   "source": [
    "dic={'k1':'v1','k2':'v2','k3':'v3'}\n"
   ]
  },
  {
   "cell_type": "code",
   "execution_count": null,
   "id": "4e9709c0",
   "metadata": {},
   "outputs": [],
   "source": [
    "# 1. 打印key值，value值\n",
    "dic.keys()"
   ]
  },
  {
   "cell_type": "code",
   "execution_count": null,
   "id": "85f7f3ef",
   "metadata": {},
   "outputs": [],
   "source": [
    "dic.values()"
   ]
  },
  {
   "cell_type": "code",
   "execution_count": null,
   "id": "0daeacae",
   "metadata": {},
   "outputs": [],
   "source": [
    "# 2. 在字典中添加一个键值，‘k4’:'y4',输出添加后的字典\n",
    "dic['k4']='y4'\n",
    "dic"
   ]
  },
  {
   "cell_type": "code",
   "execution_count": null,
   "id": "b265149b",
   "metadata": {},
   "outputs": [],
   "source": [
    "# 3.在字典中删除一个键值,‘k1’:'y1',输出删除后的字典\n",
    "del dic['k1']\n",
    "dic"
   ]
  },
  {
   "cell_type": "code",
   "execution_count": null,
   "id": "51b1afa4",
   "metadata": {},
   "outputs": [],
   "source": [
    "# 4.获取字典中‘k2’\n",
    "dic.get('k2')"
   ]
  },
  {
   "cell_type": "code",
   "execution_count": null,
   "id": "31aff880",
   "metadata": {},
   "outputs": [],
   "source": [
    "dic"
   ]
  },
  {
   "cell_type": "code",
   "execution_count": null,
   "id": "f283cf9d",
   "metadata": {},
   "outputs": [],
   "source": [
    "print(dic.get('k6'))"
   ]
  },
  {
   "cell_type": "markdown",
   "id": "b1b2b4cf",
   "metadata": {},
   "source": [
    "# 第六章"
   ]
  },
  {
   "cell_type": "markdown",
   "id": "4a3795a7",
   "metadata": {},
   "source": [
    "* import\n",
    "* 增量赋值 x=x+1 x+=1 \n",
    "* if   \n",
    "     else if  \n",
    "     else\n",
    "\n",
    "* while 循环  \n",
    "    break  \n",
    "    contibue\n",
    "* for 循环\n",
    "* 遍历 for i in something："
   ]
  },
  {
   "cell_type": "code",
   "execution_count": null,
   "id": "ce9fcb9d",
   "metadata": {},
   "outputs": [],
   "source": [
    "import math\n",
    "r=5\n",
    "area=math.pi*r**2\n",
    "area"
   ]
  },
  {
   "cell_type": "code",
   "execution_count": null,
   "id": "8bd18ce8",
   "metadata": {},
   "outputs": [],
   "source": [
    "import numpy as np\n",
    "a=np.random.rand(10)\n",
    "b=a>0.5\n",
    "a[b]"
   ]
  },
  {
   "cell_type": "code",
   "execution_count": null,
   "id": "1d5d6b0d",
   "metadata": {},
   "outputs": [],
   "source": [
    "name=['孔 维 云','耿 玉 龙']\n",
    "name.sort()\n",
    "name"
   ]
  },
  {
   "cell_type": "code",
   "execution_count": null,
   "id": "795a0a06",
   "metadata": {},
   "outputs": [],
   "source": [
    "% 猜数字的游戏\n",
    "answer=5\n",
    "time=0\n",
    "num=random.randint(1,100)\n",
    "while answer!=num:\n",
    "    time+=1\n",
    "    num=random.randint(1,100)\n",
    "    if answer>num:\n",
    "        print('猜的小了')\n",
    "    else:\n",
    "        print('猜的大了')\n",
    "    \n",
    "        \n",
    "print('你猜对了！,用了%d次' %time)"
   ]
  },
  {
   "cell_type": "code",
   "execution_count": null,
   "id": "8f3699f4",
   "metadata": {},
   "outputs": [],
   "source": [
    "import random\n",
    "num=random.randint(1,100)\n",
    "time=0\n",
    "N=True\n",
    "while N:\n",
    "    answer=input('guess a number:')\n",
    "    time+=1\n",
    "    if int(answer)>num:\n",
    "        print('猜的高了')\n",
    "    elif int(answer)<num:\n",
    "        print('猜的低了')\n",
    "    else:\n",
    "        print('恭喜你答对了,用了%s次！' %time)\n",
    "        N=False\n",
    "        "
   ]
  },
  {
   "cell_type": "markdown",
   "id": "9cd083da",
   "metadata": {},
   "source": [
    "#### 练习 【注意： print默认是打印一行，结尾加换行。end=' '意思是末尾不换行，加空格。】\n",
    "1. 打印99乘法表  \n",
    "2. 判断输入年份是否为闰年\n",
    "3. 判断输入的数字是奇数还是偶数\n",
    "4. 输出10行内容 每行都是‘*****’\n",
    "5. 输出10行内容，第一行1个星号，第二行两个，以此类推\n",
    "6. 输出9行内容，第1行输出1，第2行输出12，第三行输出123，以此类推\n",
    "7. 计算从1加到100的值并输出\n",
    "8. 计算从1到1000以内所有奇数的和并输出\n",
    "9. 计算从1到1000以内所有能被3或者17整除的数的和并输出\n",
    "10. 输出100以内的素数  不会\n",
    "11. 将一个排序的数组逆序输出"
   ]
  },
  {
   "cell_type": "code",
   "execution_count": 51,
   "id": "c0acd6b1",
   "metadata": {},
   "outputs": [
    {
     "name": "stdout",
     "output_type": "stream",
     "text": [
      "|  1 x  1 =  1 | \n",
      "\n",
      "|  1 x  2 =  2 | |  2 x  2 =  4 | \n",
      "\n",
      "|  1 x  3 =  3 | |  2 x  3 =  6 | |  3 x  3 =  9 | \n",
      "\n",
      "|  1 x  4 =  4 | |  2 x  4 =  8 | |  3 x  4 = 12 | |  4 x  4 = 16 | \n",
      "\n",
      "|  1 x  5 =  5 | |  2 x  5 = 10 | |  3 x  5 = 15 | |  4 x  5 = 20 | |  5 x  5 = 25 | \n",
      "\n",
      "|  1 x  6 =  6 | |  2 x  6 = 12 | |  3 x  6 = 18 | |  4 x  6 = 24 | |  5 x  6 = 30 | |  6 x  6 = 36 | \n",
      "\n",
      "|  1 x  7 =  7 | |  2 x  7 = 14 | |  3 x  7 = 21 | |  4 x  7 = 28 | |  5 x  7 = 35 | |  6 x  7 = 42 | |  7 x  7 = 49 | \n",
      "\n",
      "|  1 x  8 =  8 | |  2 x  8 = 16 | |  3 x  8 = 24 | |  4 x  8 = 32 | |  5 x  8 = 40 | |  6 x  8 = 48 | |  7 x  8 = 56 | |  8 x  8 = 64 | \n",
      "\n",
      "|  1 x  9 =  9 | |  2 x  9 = 18 | |  3 x  9 = 27 | |  4 x  9 = 36 | |  5 x  9 = 45 | |  6 x  9 = 54 | |  7 x  9 = 63 | |  8 x  9 = 72 | |  9 x  9 = 81 | \n",
      "\n"
     ]
    }
   ],
   "source": [
    "# 1. 99乘法表\n",
    "i=1\n",
    "while i<=9:\n",
    "    j=1\n",
    "    while j<=i:\n",
    "        print('| %2d x %2d = %2d | ' %(j,i,j*i),end='')\n",
    "        j+=1\n",
    "    print('\\n')\n",
    "    i+=1"
   ]
  },
  {
   "cell_type": "code",
   "execution_count": 52,
   "id": "0034bb49",
   "metadata": {},
   "outputs": [
    {
     "name": "stdout",
     "output_type": "stream",
     "text": [
      "please input a year:2022\n",
      "2022 年不是一个闰年\n",
      "please input a year:2021\n",
      "2021 年不是一个闰年\n",
      "please input a year:quit\n",
      "程序已退出\n"
     ]
    }
   ],
   "source": [
    "# 2. 判断是否是闰年\n",
    "while True:\n",
    "    years=input('please input a year:')\n",
    "    if years!='quit':\n",
    "        if int(years)%4==0:\n",
    "            print('%d 年是一个闰年' %int(years))\n",
    "        else:\n",
    "            print('%d 年不是一个闰年' %int(years))\n",
    "    else:\n",
    "        print('程序已退出')\n",
    "        break"
   ]
  },
  {
   "cell_type": "code",
   "execution_count": 53,
   "id": "330024fc",
   "metadata": {},
   "outputs": [
    {
     "name": "stdout",
     "output_type": "stream",
     "text": [
      "please input a number1\n",
      "1 是奇数\n",
      "please input a number2\n",
      "2 是偶数\n",
      "please input a number3\n",
      "3 是奇数\n",
      "please input a number0\n",
      "0 是偶数\n",
      "please input a numberquit\n",
      "程序已结束\n"
     ]
    }
   ],
   "source": [
    "# 3. 判断数字是奇数还是偶数\n",
    "while True:\n",
    "    num=input('please input a number')\n",
    "    if num!='quit':\n",
    "        if int(num)%2==0:\n",
    "            print('%d 是偶数' %int(num))\n",
    "        else:\n",
    "            print('%d 是奇数' %int(num))\n",
    "    else:\n",
    "        print('程序已结束')\n",
    "        break\n",
    "    "
   ]
  },
  {
   "cell_type": "code",
   "execution_count": 54,
   "id": "85824a6b",
   "metadata": {},
   "outputs": [
    {
     "name": "stdout",
     "output_type": "stream",
     "text": [
      "*****\n",
      "\n",
      "*****\n",
      "\n",
      "*****\n",
      "\n",
      "*****\n",
      "\n",
      "*****\n",
      "\n",
      "*****\n",
      "\n",
      "*****\n",
      "\n",
      "*****\n",
      "\n",
      "*****\n",
      "\n",
      "*****\n",
      "\n"
     ]
    }
   ],
   "source": [
    "# 4. 输出10行内容 每行都是‘*****’\n",
    "i=10\n",
    "while i:\n",
    "    j=5\n",
    "    while j:\n",
    "        print('*',end='')\n",
    "        j-=1\n",
    "    print('\\n')\n",
    "    i-=1"
   ]
  },
  {
   "cell_type": "code",
   "execution_count": 55,
   "id": "908bba87",
   "metadata": {},
   "outputs": [
    {
     "name": "stdout",
     "output_type": "stream",
     "text": [
      "*\n",
      "\n",
      "**\n",
      "\n",
      "***\n",
      "\n",
      "****\n",
      "\n",
      "*****\n",
      "\n",
      "******\n",
      "\n",
      "*******\n",
      "\n",
      "********\n",
      "\n",
      "*********\n",
      "\n",
      "**********\n",
      "\n"
     ]
    }
   ],
   "source": [
    "# 5. 输出10行内容，第一行1个星号，第二行两个，以此类推\n",
    "i=1\n",
    "while i<=10:\n",
    "    j=1\n",
    "    while j<=i:\n",
    "        print('*',end='')\n",
    "        j+=1\n",
    "    print('\\n')\n",
    "    i+=1"
   ]
  },
  {
   "cell_type": "code",
   "execution_count": 56,
   "id": "cd7b7083",
   "metadata": {},
   "outputs": [
    {
     "name": "stdout",
     "output_type": "stream",
     "text": [
      "1\n",
      "\n",
      "12\n",
      "\n",
      "123\n",
      "\n",
      "1234\n",
      "\n",
      "12345\n",
      "\n",
      "123456\n",
      "\n",
      "1234567\n",
      "\n",
      "12345678\n",
      "\n",
      "123456789\n",
      "\n"
     ]
    }
   ],
   "source": [
    "# 6. 输出9行内容，第1行输出1，第2行输出12，第三行输出123，以此类推\n",
    "i=1\n",
    "while i<=9:\n",
    "    j=1\n",
    "    while j<=i:\n",
    "        print(j,end='')\n",
    "        j+=1\n",
    "    print('\\n')\n",
    "    i+=1"
   ]
  },
  {
   "cell_type": "code",
   "execution_count": 57,
   "id": "2c3289d0",
   "metadata": {},
   "outputs": [
    {
     "name": "stdout",
     "output_type": "stream",
     "text": [
      "1+2+3+...+100=5050\n"
     ]
    }
   ],
   "source": [
    "# 7. 计算从1加到100的值并输出\n",
    "num=0\n",
    "sum=0\n",
    "while num<=100:\n",
    "    sum=num+sum\n",
    "    num+=1\n",
    "print('1+2+3+...+100=%d'%sum)"
   ]
  },
  {
   "cell_type": "code",
   "execution_count": 58,
   "id": "86f5ddc9",
   "metadata": {},
   "outputs": [
    {
     "name": "stdout",
     "output_type": "stream",
     "text": [
      "1+3+5+....+999=250000\n"
     ]
    }
   ],
   "source": [
    "# 8. 计算从1到1000以内所有奇数的和并输出\n",
    "num=0\n",
    "sum=0\n",
    "while num<=1000:\n",
    "    if num%2!=0:\n",
    "        sum=num+sum\n",
    "    else:\n",
    "        pass\n",
    "    num+=1\n",
    "print('1+3+5+....+999=%d' %sum)"
   ]
  },
  {
   "cell_type": "code",
   "execution_count": 59,
   "id": "c30aa03c",
   "metadata": {},
   "outputs": [
    {
     "name": "stdout",
     "output_type": "stream",
     "text": [
      "3+6+9+12+15+17...=451973\n"
     ]
    }
   ],
   "source": [
    "# 9.计算从1到1000以内所有能被3或者17整除的数的和并输出\n",
    "num=0\n",
    "sum=0\n",
    "while num<=1000:\n",
    "    if num%3!=0 | num%17!=0:\n",
    "        sum=num+sum\n",
    "    else:\n",
    "        pass\n",
    "    num+=1\n",
    "print('3+6+9+12+15+17...=%d' %sum)"
   ]
  },
  {
   "cell_type": "code",
   "execution_count": 60,
   "id": "bc3a4216",
   "metadata": {},
   "outputs": [],
   "source": [
    "# 10 输出100以内的素数"
   ]
  },
  {
   "cell_type": "code",
   "execution_count": 61,
   "id": "ccd9eb6a",
   "metadata": {},
   "outputs": [
    {
     "name": "stdout",
     "output_type": "stream",
     "text": [
      "[3, 10, 25, 66, 99]\n"
     ]
    }
   ],
   "source": [
    "# 11 将一个排序的数组逆序输出\n",
    "a=[99,66,25,10,3]\n",
    "N=len(a)\n",
    "for i in range(N//2):\n",
    "    a[i],a[N-i-1]=a[N-i-1],a[i]\n",
    "print(a)"
   ]
  },
  {
   "cell_type": "markdown",
   "id": "98708664",
   "metadata": {},
   "source": [
    "# 第七章 函数\n",
    "1. help(函数名) 可查看函数功能\n",
    "2. 自定义函数 def（）开头\n",
    "            return [表达式]结束\n",
    "3. 调用参数\n",
    "    * 必须参数  \n",
    "    * 关键字参数\n",
    "    * 默认参数\n",
    "    * 可变参数\n",
    "    * 组合参数"
   ]
  },
  {
   "cell_type": "markdown",
   "id": "675a1b90",
   "metadata": {},
   "source": [
    "#### 必须参数：\n",
    "    必须参数要以正确的顺序传入函数。调用时的数量必须和声明时的一样"
   ]
  },
  {
   "cell_type": "code",
   "execution_count": 62,
   "id": "77332ea5",
   "metadata": {},
   "outputs": [],
   "source": [
    "def paramone(str):\n",
    "    print('the param is:',str)\n",
    "    print('传入的参数为：',str)\n",
    "    "
   ]
  },
  {
   "cell_type": "code",
   "execution_count": 63,
   "id": "f6d54d7d",
   "metadata": {},
   "outputs": [
    {
     "name": "stdout",
     "output_type": "stream",
     "text": [
      "the param is: hello\n",
      "传入的参数为： hello\n"
     ]
    }
   ],
   "source": [
    "paramone('hello')"
   ]
  },
  {
   "cell_type": "markdown",
   "id": "8e818ed0",
   "metadata": {},
   "source": [
    "#### 关键字参数：\n",
    "   使用关键字参数时，python解释器能用参数名匹配参数值"
   ]
  },
  {
   "cell_type": "code",
   "execution_count": 64,
   "id": "154bf1cd",
   "metadata": {},
   "outputs": [],
   "source": [
    "def personinfo(age,name):\n",
    "    print('年龄：',age)\n",
    "    print('名称: ',name)\n",
    "    return"
   ]
  },
  {
   "cell_type": "code",
   "execution_count": 65,
   "id": "ac5edfe0",
   "metadata": {},
   "outputs": [
    {
     "name": "stdout",
     "output_type": "stream",
     "text": [
      "年龄： 21\n",
      "名称:  孔维云\n"
     ]
    }
   ],
   "source": [
    "personinfo(21,'孔维云')"
   ]
  },
  {
   "cell_type": "markdown",
   "id": "f3ee9222",
   "metadata": {},
   "source": [
    "#### 默认参数\n",
    "    调用函数时，若没有传递参数，则会使用默认参数"
   ]
  },
  {
   "cell_type": "code",
   "execution_count": 66,
   "id": "089534b2",
   "metadata": {},
   "outputs": [],
   "source": [
    "def defaultparam(name,age=23):\n",
    "    print('hi,我叫：',name)\n",
    "    print('我今年：',age)\n",
    "    return\n"
   ]
  },
  {
   "cell_type": "code",
   "execution_count": 67,
   "id": "ab9d0936",
   "metadata": {},
   "outputs": [
    {
     "name": "stdout",
     "output_type": "stream",
     "text": [
      "hi,我叫： 萌萌\n",
      "我今年： 23\n"
     ]
    }
   ],
   "source": [
    "defaultparam('萌萌')"
   ]
  },
  {
   "cell_type": "code",
   "execution_count": 68,
   "id": "094654f4",
   "metadata": {},
   "outputs": [
    {
     "name": "stdout",
     "output_type": "stream",
     "text": [
      "hi,我叫： 小聪\n",
      "我今年： 33\n"
     ]
    }
   ],
   "source": [
    "defaultparam('小聪',33)"
   ]
  },
  {
   "cell_type": "code",
   "execution_count": 69,
   "id": "9cff19a2",
   "metadata": {},
   "outputs": [
    {
     "name": "stdout",
     "output_type": "stream",
     "text": [
      "hi,我叫： 小明\n",
      "我今年： 20\n"
     ]
    }
   ],
   "source": [
    "defaultparam(age=20,name='小明')"
   ]
  },
  {
   "cell_type": "markdown",
   "id": "294d4f73",
   "metadata": {},
   "source": [
    "#### 可变参数\n",
    "    *ages :tuple类型的对象\n",
    "    **kwargs：dict类型的对象\n",
    "    "
   ]
  },
  {
   "cell_type": "code",
   "execution_count": 70,
   "id": "856e5c03",
   "metadata": {},
   "outputs": [],
   "source": [
    "def functionname(arg,*vartuple):\n",
    "    print(arg)\n",
    "    for var in vartuple:\n",
    "        print('我属于不定长参数部分：',var)\n",
    "    return"
   ]
  },
  {
   "cell_type": "code",
   "execution_count": 71,
   "id": "f76fa15f",
   "metadata": {},
   "outputs": [
    {
     "name": "stdout",
     "output_type": "stream",
     "text": [
      "小萌\n",
      "我属于不定长参数部分： 21\n",
      "我属于不定长参数部分： beijing\n",
      "我属于不定长参数部分： 598245115\n",
      "我属于不定长参数部分： happy\n"
     ]
    }
   ],
   "source": [
    "functionname('小萌',21,'beijing','598245115','happy')"
   ]
  },
  {
   "cell_type": "code",
   "execution_count": 72,
   "id": "762475cd",
   "metadata": {},
   "outputs": [],
   "source": [
    "def test_kw(**kwargs):\n",
    "    print(kwargs)\n",
    "    type(kwargs)\n",
    "    for k,v in kwargs.items():\n",
    "        print(k,':',v)\n",
    "    return "
   ]
  },
  {
   "cell_type": "code",
   "execution_count": 73,
   "id": "d6a65bfb",
   "metadata": {},
   "outputs": [
    {
     "name": "stdout",
     "output_type": "stream",
     "text": [
      "{'name': 'kong', 'age': 12, 'sex': 'girl'}\n",
      "name : kong\n",
      "age : 12\n",
      "sex : girl\n"
     ]
    }
   ],
   "source": [
    "test_kw(name='kong',age=12,sex='girl')\n"
   ]
  },
  {
   "cell_type": "markdown",
   "id": "1a4d6dbc",
   "metadata": {},
   "source": [
    "#### 返回函数\n",
    "    函数除了可以返回值，是否可以返回函数？\n",
    "    "
   ]
  },
  {
   "cell_type": "code",
   "execution_count": 74,
   "id": "9d99bcfd",
   "metadata": {},
   "outputs": [],
   "source": [
    "# 返回求和的值\n",
    "def calc_sum(*args):\n",
    "    ax=0\n",
    "    for n in args:\n",
    "        ax=ax + n\n",
    "    return ax"
   ]
  },
  {
   "cell_type": "code",
   "execution_count": 75,
   "id": "2de8e7ce",
   "metadata": {},
   "outputs": [
    {
     "data": {
      "text/plain": [
       "28"
      ]
     },
     "execution_count": 75,
     "metadata": {},
     "output_type": "execute_result"
    }
   ],
   "source": [
    "calc_sum(1,2,3,4,5,6,7)"
   ]
  },
  {
   "cell_type": "code",
   "execution_count": 76,
   "id": "32462a83",
   "metadata": {},
   "outputs": [],
   "source": [
    "# 返回求和函数\n",
    "def sum_late(*args):\n",
    "    def calc_sum():\n",
    "        ax=0\n",
    "        for n in args:\n",
    "            ax=ax+n\n",
    "        return ax\n",
    "    return calc_sum"
   ]
  },
  {
   "cell_type": "code",
   "execution_count": 77,
   "id": "1313edbd",
   "metadata": {},
   "outputs": [
    {
     "data": {
      "text/plain": [
       "<function __main__.sum_late.<locals>.calc_sum()>"
      ]
     },
     "execution_count": 77,
     "metadata": {},
     "output_type": "execute_result"
    }
   ],
   "source": [
    "calc_sum(1,2,3)\n",
    "sum_late(calc_sum(1,2,3))"
   ]
  },
  {
   "cell_type": "markdown",
   "id": "4ea87680",
   "metadata": {},
   "source": [
    "#### 递归函数"
   ]
  },
  {
   "cell_type": "code",
   "execution_count": 78,
   "id": "dbf7300d",
   "metadata": {},
   "outputs": [],
   "source": [
    "def fact(n):\n",
    "    if n==1:\n",
    "        return 1\n",
    "    return n*fact(n-1)"
   ]
  },
  {
   "cell_type": "code",
   "execution_count": 79,
   "id": "08d8ada4",
   "metadata": {
    "scrolled": true
   },
   "outputs": [
    {
     "data": {
      "text/plain": [
       "6"
      ]
     },
     "execution_count": 79,
     "metadata": {},
     "output_type": "execute_result"
    }
   ],
   "source": [
    "fact(3)"
   ]
  },
  {
   "cell_type": "markdown",
   "id": "863037a2",
   "metadata": {},
   "source": [
    "#### 匿名函数 lambda\n",
    "* def 语句：  \n",
    "  def func(x,y):  \n",
    "      return x+y\n",
    "* lambda 语句   \n",
    "add=lambda x,y:x+y  \n",
    "add(x,y)\n",
    "https://blog.csdn.net/zjuxsl/article/details/79437563?ops_request_misc=%257B%2522request%255Fid%2522%253A%2522166801114816782425679467%2522%252C%2522scm%2522%253A%252220140713.130102334..%2522%257D&request_id=166801114816782425679467&biz_id=0&utm_medium=distribute.pc_search_result.none-task-blog-2~all~top_positive~default-1-79437563-null-null.142^v63^control,201^v3^add_ask,213^v2^t3_esquery_v2&utm_term=lambda&spm=1018.2226.3001.4187"
   ]
  },
  {
   "cell_type": "code",
   "execution_count": 80,
   "id": "9841dccd",
   "metadata": {},
   "outputs": [
    {
     "data": {
      "text/plain": [
       "3"
      ]
     },
     "execution_count": 80,
     "metadata": {},
     "output_type": "execute_result"
    }
   ],
   "source": [
    "add=lambda x,y:x+y\n",
    "add(1,2)"
   ]
  },
  {
   "cell_type": "code",
   "execution_count": 81,
   "id": "fbdb4a53",
   "metadata": {},
   "outputs": [
    {
     "data": {
      "text/plain": [
       "8"
      ]
     },
     "execution_count": 81,
     "metadata": {},
     "output_type": "execute_result"
    }
   ],
   "source": [
    "multi=lambda x,y:x*y\n",
    "multi(2,4)"
   ]
  },
  {
   "cell_type": "markdown",
   "id": "1abc8311",
   "metadata": {},
   "source": [
    "#### 练习\n",
    "1. 利用python的内置函数hex(),把一个整数转换成十六进制表示的字符串\n",
    "2. 定义一个函数quadratic(a,b,c)，接收3个参数，返回一元二次方程:ax^2+bx+c=0的两个解\n",
    "3. 写出斐波那契数列\n",
    "4. 写个字符串，通过遍历的方式计算字符串的长度"
   ]
  },
  {
   "cell_type": "code",
   "execution_count": 82,
   "id": "56c23756",
   "metadata": {},
   "outputs": [
    {
     "data": {
      "text/plain": [
       "'0x3e8'"
      ]
     },
     "execution_count": 82,
     "metadata": {},
     "output_type": "execute_result"
    }
   ],
   "source": [
    "# 1.\n",
    "def int_change_hex(int):\n",
    "    a=hex(int)\n",
    "    return a\n",
    "int_change_hex(1000)"
   ]
  },
  {
   "cell_type": "code",
   "execution_count": 83,
   "id": "97820f2f",
   "metadata": {},
   "outputs": [],
   "source": [
    "# 2.\n",
    "import math\n",
    "def quadratic(a,b,c):\n",
    "    print('构成一元二次方程:%dx^2+%dx+%d=0' %(a,b,c))\n",
    "    detla=int((b)**2-4*a*c)\n",
    "    print('detla=',detla)\n",
    "    sqrt_detla=math.sqrt(abs(detla))\n",
    "    x1=((-b)+sqrt_detla)/(2*a)\n",
    "    x2=((-b)-sqrt_detla)/(2*a)\n",
    "    if detla < 0:\n",
    "        print('方程无解')\n",
    "    elif detla == 0:\n",
    "        print('方程只有一个解，x=',x1)\n",
    "    else :\n",
    "        print('方程有两个解，x1=',x1,'x2=',x2)"
   ]
  },
  {
   "cell_type": "code",
   "execution_count": 84,
   "id": "af71eae0",
   "metadata": {},
   "outputs": [
    {
     "name": "stdout",
     "output_type": "stream",
     "text": [
      "构成一元二次方程:2x^2+-17x+21=0\n",
      "detla= 121\n",
      "方程有两个解，x1= 7.0 x2= 1.5\n"
     ]
    }
   ],
   "source": [
    "quadratic(2,-17,21)"
   ]
  },
  {
   "cell_type": "code",
   "execution_count": 92,
   "id": "1455433d",
   "metadata": {},
   "outputs": [
    {
     "name": "stdout",
     "output_type": "stream",
     "text": [
      " 1, 1, 2, 3, 5,\n",
      "\n",
      " 8, 13, 21, 34, 55,\n",
      "\n",
      " 89, 144, 233, 377, 610,\n",
      "\n",
      " 987, 1597, 2584, 4181, 6765,\n",
      "\n",
      " 10946, 17711, 28657, 46368, 75025,\n",
      "\n"
     ]
    }
   ],
   "source": [
    "# 3\n",
    "def fbnq(n):\n",
    "    if n==1 or n==2:\n",
    "        return 1\n",
    "    else:\n",
    "        return fbnq(n-1)+fbnq(n-2)\n",
    "\n",
    "n=25 # 输出前25项\n",
    "num=1\n",
    "while num<=n:\n",
    "    m=1\n",
    "    while m<=5:\n",
    "        print(' '+str(fbnq(num))+',',end='')\n",
    "        num+=1\n",
    "        m+=1\n",
    "    print('\\n')"
   ]
  },
  {
   "cell_type": "code",
   "execution_count": 93,
   "id": "faa85790",
   "metadata": {},
   "outputs": [],
   "source": [
    "#  4 写个字符串，通过遍历的方式计算字符串的长度\n",
    "def jlen(str):\n",
    "    num=0\n",
    "    for i in str:\n",
    "        num+=1\n",
    "    print('字符串:%s的长度是:%d'%(str,num))"
   ]
  },
  {
   "cell_type": "code",
   "execution_count": 94,
   "id": "825a92f7",
   "metadata": {},
   "outputs": [
    {
     "name": "stdout",
     "output_type": "stream",
     "text": [
      "字符串:hello every one,today,im so happy!的长度是:34\n"
     ]
    }
   ],
   "source": [
    "ex_str='hello every one,today,im so happy!'\n",
    "jlen(ex_str)"
   ]
  },
  {
   "cell_type": "code",
   "execution_count": 95,
   "id": "cc7d3750",
   "metadata": {},
   "outputs": [
    {
     "data": {
      "text/plain": [
       "34"
      ]
     },
     "execution_count": 95,
     "metadata": {},
     "output_type": "execute_result"
    }
   ],
   "source": [
    "len(ex_str)"
   ]
  },
  {
   "cell_type": "code",
   "execution_count": 96,
   "id": "63c86917",
   "metadata": {},
   "outputs": [
    {
     "data": {
      "text/plain": [
       "'你粉'"
      ]
     },
     "execution_count": 96,
     "metadata": {},
     "output_type": "execute_result"
    }
   ],
   "source": [
    "# 5 写入不定个数的字符串拼接第一个和最后一个字符串\n",
    "def splicing(*args):\n",
    "    return args[0]+args[-1]\n",
    "splicing('你','好','啊','酸','辣','粉')"
   ]
  },
  {
   "cell_type": "code",
   "execution_count": 97,
   "id": "9fb08045",
   "metadata": {},
   "outputs": [
    {
     "data": {
      "text/plain": [
       "15"
      ]
     },
     "execution_count": 97,
     "metadata": {},
     "output_type": "execute_result"
    }
   ],
   "source": [
    "# 6. 定义一个函数，输入不定个数的数字，返回所有数字的和\n",
    "def adds(*args):\n",
    "    x=0\n",
    "    for i in args:\n",
    "        x+=i\n",
    "    return x\n",
    "adds(1,2,3,4,5)"
   ]
  },
  {
   "cell_type": "code",
   "execution_count": 98,
   "id": "11030142",
   "metadata": {},
   "outputs": [
    {
     "data": {
      "text/plain": [
       "[1, 2, 3, 4, 5, 6, 7]"
      ]
     },
     "execution_count": 98,
     "metadata": {},
     "output_type": "execute_result"
    }
   ],
   "source": [
    "# 7. 传入多个参数，以list返回\n",
    "def returnlist(*args):\n",
    "    li=[]\n",
    "    for i in args:\n",
    "        li.append(i)\n",
    "    return li\n",
    "returnlist(1,2,3,4,5,6,7)"
   ]
  },
  {
   "cell_type": "code",
   "execution_count": null,
   "id": "4d1af1ee",
   "metadata": {},
   "outputs": [],
   "source": []
  }
 ],
 "metadata": {
  "kernelspec": {
   "display_name": "Python 3 (ipykernel)",
   "language": "python",
   "name": "python3"
  },
  "language_info": {
   "codemirror_mode": {
    "name": "ipython",
    "version": 3
   },
   "file_extension": ".py",
   "mimetype": "text/x-python",
   "name": "python",
   "nbconvert_exporter": "python",
   "pygments_lexer": "ipython3",
   "version": "3.9.7"
  }
 },
 "nbformat": 4,
 "nbformat_minor": 5
}
