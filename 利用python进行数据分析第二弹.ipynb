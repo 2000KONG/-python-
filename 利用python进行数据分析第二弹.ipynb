{
 "cells": [
  {
   "cell_type": "markdown",
   "id": "c0c69773",
   "metadata": {},
   "source": [
    "# NumPy（数据处理必学）\n",
    "## 数组和向量计算"
   ]
  },
  {
   "cell_type": "markdown",
   "id": "eef43e69",
   "metadata": {},
   "source": [
    "## range 和 arange的区别\n",
    "### range是python里自带的\n",
    "    range(start,end,step)左闭右开，生成int型list\n",
    "### arange是NumPy里的，使用前先import numpy\n",
    "    arange(start,end,step)左闭右开，返回array对象(可以是float型)"
   ]
  },
  {
   "cell_type": "code",
   "execution_count": 3,
   "id": "c503e368",
   "metadata": {},
   "outputs": [
    {
     "name": "stdout",
     "output_type": "stream",
     "text": [
      "[1, 2, 3, 4, 5, 6, 7, 8, 9, 10, 11, 12, 13, 14, 15, 16, 17, 18, 19]\n"
     ]
    }
   ],
   "source": [
    "num_range=range(1,20,1)\n",
    "print(list(num))"
   ]
  },
  {
   "cell_type": "code",
   "execution_count": 4,
   "id": "14484fc8",
   "metadata": {},
   "outputs": [
    {
     "ename": "TypeError",
     "evalue": "'float' object cannot be interpreted as an integer",
     "output_type": "error",
     "traceback": [
      "\u001b[1;31m---------------------------------------------------------------------------\u001b[0m",
      "\u001b[1;31mTypeError\u001b[0m                                 Traceback (most recent call last)",
      "\u001b[1;32m~\\AppData\\Local\\Temp/ipykernel_4112/388341495.py\u001b[0m in \u001b[0;36m<module>\u001b[1;34m\u001b[0m\n\u001b[1;32m----> 1\u001b[1;33m \u001b[0mnum_range\u001b[0m\u001b[1;33m=\u001b[0m\u001b[0mrange\u001b[0m\u001b[1;33m(\u001b[0m\u001b[1;36m1\u001b[0m\u001b[1;33m,\u001b[0m\u001b[1;36m20\u001b[0m\u001b[1;33m,\u001b[0m\u001b[1;36m0.5\u001b[0m\u001b[1;33m)\u001b[0m\u001b[1;33m\u001b[0m\u001b[1;33m\u001b[0m\u001b[0m\n\u001b[0m\u001b[0;32m      2\u001b[0m \u001b[0mprint\u001b[0m\u001b[1;33m(\u001b[0m\u001b[0mlist\u001b[0m\u001b[1;33m(\u001b[0m\u001b[0mnum_range\u001b[0m\u001b[1;33m)\u001b[0m\u001b[1;33m)\u001b[0m\u001b[1;33m\u001b[0m\u001b[1;33m\u001b[0m\u001b[0m\n",
      "\u001b[1;31mTypeError\u001b[0m: 'float' object cannot be interpreted as an integer"
     ]
    }
   ],
   "source": [
    "num_range=range(1,20,0.5)\n",
    "print(list(num_range))"
   ]
  },
  {
   "cell_type": "code",
   "execution_count": 6,
   "id": "45eb4cb0",
   "metadata": {},
   "outputs": [
    {
     "name": "stdout",
     "output_type": "stream",
     "text": [
      "[1.0, 1.5, 2.0, 2.5, 3.0, 3.5, 4.0, 4.5]\n"
     ]
    }
   ],
   "source": [
    "import numpy as np\n",
    "num_arange=np.arange(1,5,0.5)\n",
    "print(list(num_arange))"
   ]
  },
  {
   "cell_type": "markdown",
   "id": "9cb5b9ff",
   "metadata": {},
   "source": [
    "## 利用numpy进行数组、矩阵的一些操作"
   ]
  },
  {
   "cell_type": "code",
   "execution_count": 10,
   "id": "a71f3198",
   "metadata": {},
   "outputs": [
    {
     "data": {
      "text/plain": [
       "array([[-1.8892507 , -0.4014    , -1.39367477],\n",
       "       [ 1.79754423, -1.09850994, -0.26771039]])"
      ]
     },
     "execution_count": 10,
     "metadata": {},
     "output_type": "execute_result"
    }
   ],
   "source": [
    "import numpy as np\n",
    "data=np.random.randn(2,3)\n",
    "# randn??\n",
    "data\n",
    "#data是矩阵\n"
   ]
  },
  {
   "cell_type": "code",
   "execution_count": 13,
   "id": "ffa52a8c",
   "metadata": {},
   "outputs": [
    {
     "data": {
      "text/plain": [
       "array([-0.07403389, -1.99766016,  0.8047043 ,  0.93877037,  0.04490822])"
      ]
     },
     "execution_count": 13,
     "metadata": {},
     "output_type": "execute_result"
    }
   ],
   "source": [
    "data_2=np.random.randn(5)\n",
    "data_2\n",
    "# data_2是数组\n"
   ]
  },
  {
   "cell_type": "markdown",
   "id": "1056daba",
   "metadata": {},
   "source": [
    "### 矩阵进行一些常见运算"
   ]
  },
  {
   "cell_type": "code",
   "execution_count": 3,
   "id": "cb74b428",
   "metadata": {},
   "outputs": [
    {
     "data": {
      "text/plain": [
       "array([[-0.93722684, -8.2755125 , -3.45354029],\n",
       "       [ 8.90215711, -7.59018597, -0.57054381]])"
      ]
     },
     "execution_count": 3,
     "metadata": {},
     "output_type": "execute_result"
    }
   ],
   "source": [
    "data*10"
   ]
  },
  {
   "cell_type": "code",
   "execution_count": 4,
   "id": "e0c001ff",
   "metadata": {},
   "outputs": [
    {
     "data": {
      "text/plain": [
       "array([[-0.18744537, -1.6551025 , -0.69070806],\n",
       "       [ 1.78043142, -1.51803719, -0.11410876]])"
      ]
     },
     "execution_count": 4,
     "metadata": {},
     "output_type": "execute_result"
    }
   ],
   "source": [
    "data+data"
   ]
  },
  {
   "cell_type": "markdown",
   "id": "6fc4a2d9",
   "metadata": {},
   "source": [
    "查看矩阵的类型"
   ]
  },
  {
   "cell_type": "code",
   "execution_count": 7,
   "id": "ece80949",
   "metadata": {},
   "outputs": [
    {
     "data": {
      "text/plain": [
       "(2, 3)"
      ]
     },
     "execution_count": 7,
     "metadata": {},
     "output_type": "execute_result"
    }
   ],
   "source": [
    "data.shape"
   ]
  },
  {
   "cell_type": "markdown",
   "id": "b7a8c166",
   "metadata": {},
   "source": [
    "进行转置"
   ]
  },
  {
   "cell_type": "code",
   "execution_count": null,
   "id": "ff419dd7",
   "metadata": {},
   "outputs": [],
   "source": [
    "data.T"
   ]
  },
  {
   "cell_type": "markdown",
   "id": "775d7272",
   "metadata": {},
   "source": [
    "其他加减乘除运算"
   ]
  },
  {
   "cell_type": "code",
   "execution_count": 92,
   "id": "bc6b6c47",
   "metadata": {},
   "outputs": [
    {
     "data": {
      "text/plain": [
       "array([[-1.03456915,  2.69969572,  0.18098815],\n",
       "       [ 0.40383431,  0.44800457, -0.25926348],\n",
       "       [ 1.04299725,  1.57199166,  0.81736542]])"
      ]
     },
     "execution_count": 92,
     "metadata": {},
     "output_type": "execute_result"
    }
   ],
   "source": [
    "arry_1=np.random.randn(3,3)\n",
    "arry_2=np.random.randn(3,3)\n",
    "arry_1"
   ]
  },
  {
   "cell_type": "code",
   "execution_count": 94,
   "id": "7347a57a",
   "metadata": {},
   "outputs": [
    {
     "data": {
      "text/plain": [
       "array([[-0.69913837, -0.9255458 , -0.0292691 ],\n",
       "       [ 0.23008803, -0.18418463, -0.54098543],\n",
       "       [-1.39299863, -1.06198697, -0.74213651]])"
      ]
     },
     "execution_count": 94,
     "metadata": {},
     "output_type": "execute_result"
    }
   ],
   "source": [
    "arry_2"
   ]
  },
  {
   "cell_type": "code",
   "execution_count": 95,
   "id": "4880fb0f",
   "metadata": {},
   "outputs": [
    {
     "data": {
      "text/plain": [
       "array([[ 0.72330699, -2.49869204, -0.00529736],\n",
       "       [ 0.09291744, -0.08251555,  0.14025777],\n",
       "       [-1.45289374, -1.66943465, -0.60659672]])"
      ]
     },
     "execution_count": 95,
     "metadata": {},
     "output_type": "execute_result"
    }
   ],
   "source": [
    "# *\n",
    "arry_1*arry_2"
   ]
  },
  {
   "cell_type": "code",
   "execution_count": 96,
   "id": "978e232d",
   "metadata": {},
   "outputs": [
    {
     "data": {
      "text/plain": [
       "array([[-0.33543078,  3.62524152,  0.21025725],\n",
       "       [ 0.17374628,  0.6321892 ,  0.28172195],\n",
       "       [ 2.43599588,  2.63397863,  1.55950193]])"
      ]
     },
     "execution_count": 96,
     "metadata": {},
     "output_type": "execute_result"
    }
   ],
   "source": [
    "# -\n",
    "arry_1-arry_2"
   ]
  },
  {
   "cell_type": "code",
   "execution_count": 97,
   "id": "f5cf3eb0",
   "metadata": {},
   "outputs": [
    {
     "data": {
      "text/plain": [
       "array([[False,  True,  True],\n",
       "       [ True,  True,  True],\n",
       "       [ True,  True,  True]])"
      ]
     },
     "execution_count": 97,
     "metadata": {},
     "output_type": "execute_result"
    }
   ],
   "source": [
    "# 比大小\n",
    "arry_1>arry_2"
   ]
  },
  {
   "cell_type": "markdown",
   "id": "13767c6f",
   "metadata": {},
   "source": [
    "### 接受序列生成数组or矩阵"
   ]
  },
  {
   "cell_type": "code",
   "execution_count": 14,
   "id": "23219b61",
   "metadata": {},
   "outputs": [
    {
     "data": {
      "text/plain": [
       "array([1, 2, 3, 4])"
      ]
     },
     "execution_count": 14,
     "metadata": {},
     "output_type": "execute_result"
    }
   ],
   "source": [
    "list_1=[1,2,3,4]\n",
    "arry_1=np.array(list_1)\n",
    "arry_1"
   ]
  },
  {
   "cell_type": "code",
   "execution_count": 18,
   "id": "5b8e0364",
   "metadata": {},
   "outputs": [
    {
     "data": {
      "text/plain": [
       "array([[1, 2, 3],\n",
       "       [4, 5, 6]])"
      ]
     },
     "execution_count": 18,
     "metadata": {},
     "output_type": "execute_result"
    }
   ],
   "source": [
    "list_2=[[1,2,3],[4,5,6]]\n",
    "arry_2=np.array(list_2)\n",
    "arry_2"
   ]
  },
  {
   "cell_type": "code",
   "execution_count": 19,
   "id": "7d2bc76c",
   "metadata": {},
   "outputs": [
    {
     "data": {
      "text/plain": [
       "(2, 3)"
      ]
     },
     "execution_count": 19,
     "metadata": {},
     "output_type": "execute_result"
    }
   ],
   "source": [
    "arry_2.shape"
   ]
  },
  {
   "cell_type": "markdown",
   "id": "e0fe33d8",
   "metadata": {},
   "source": [
    "### zeros 生成全0的数组"
   ]
  },
  {
   "cell_type": "code",
   "execution_count": 20,
   "id": "0e1e6a9e",
   "metadata": {},
   "outputs": [
    {
     "data": {
      "text/plain": [
       "array([0., 0., 0., 0., 0., 0., 0., 0., 0., 0.])"
      ]
     },
     "execution_count": 20,
     "metadata": {},
     "output_type": "execute_result"
    }
   ],
   "source": [
    "np.zeros(10)"
   ]
  },
  {
   "cell_type": "code",
   "execution_count": 32,
   "id": "93f8db3e",
   "metadata": {},
   "outputs": [
    {
     "data": {
      "text/plain": [
       "array([[0., 0., 0.],\n",
       "       [0., 0., 0.],\n",
       "       [0., 0., 0.]])"
      ]
     },
     "execution_count": 32,
     "metadata": {},
     "output_type": "execute_result"
    }
   ],
   "source": [
    "# 错误： np.zeros(3,3)\n",
    "# 注意数据的输入方式\n",
    "data=np.zeros((3,3))\n",
    "data"
   ]
  },
  {
   "cell_type": "code",
   "execution_count": 27,
   "id": "89597ce2",
   "metadata": {},
   "outputs": [
    {
     "data": {
      "text/plain": [
       "dtype('float64')"
      ]
     },
     "execution_count": 27,
     "metadata": {},
     "output_type": "execute_result"
    }
   ],
   "source": [
    "data.dtype"
   ]
  },
  {
   "cell_type": "markdown",
   "id": "1f91abb9",
   "metadata": {},
   "source": [
    "### empty \n",
    "#### 应该生成空列表，为什么看起来不是0 呢？\n",
    "#### 解释：https://blog.csdn.net/SaintTsy/article/details/122596417?ops_request_misc=%257B%2522request%255Fid%2522%253A%2522166493979816782417035509%2522%252C%2522scm%2522%253A%252220140713.130102334..%2522%257D&request_id=166493979816782417035509&biz_id=0&utm_medium=distribute.pc_search_result.none-task-blog-2~all~top_click~default-1-122596417-null-null.142^v51^control,201^v3^add_ask&utm_term=numpy.empty&spm=1018.2226.3001.4187\n",
    "#### 总结：看起来不是，实际上是"
   ]
  },
  {
   "cell_type": "code",
   "execution_count": 50,
   "id": "c74b733b",
   "metadata": {},
   "outputs": [
    {
     "data": {
      "text/plain": [
       "array([[[9.88654784e-312, 4.84184333e-322, 0.00000000e+000],\n",
       "        [0.00000000e+000, 8.01097888e-307, 1.15998412e-028],\n",
       "        [4.31603868e-080, 1.94919985e-153, 1.35717430e+131]],\n",
       "\n",
       "       [[3.57280604e-062, 2.42015374e-052, 1.94217339e-109],\n",
       "        [4.90900643e+252, 1.94918511e-153, 6.32672800e+180],\n",
       "        [4.74483502e+170, 1.97229332e-062, 1.13595970e-028]]])"
      ]
     },
     "execution_count": 50,
     "metadata": {},
     "output_type": "execute_result"
    }
   ],
   "source": [
    "np.empty((2,3,3))\n",
    "#((组，行，列))"
   ]
  },
  {
   "cell_type": "markdown",
   "id": "dd292960",
   "metadata": {},
   "source": [
    "ones 全是1"
   ]
  },
  {
   "cell_type": "code",
   "execution_count": 53,
   "id": "cbed325e",
   "metadata": {},
   "outputs": [
    {
     "data": {
      "text/plain": [
       "array([1., 1., 1.])"
      ]
     },
     "execution_count": 53,
     "metadata": {},
     "output_type": "execute_result"
    }
   ],
   "source": [
    "np.ones(3)"
   ]
  },
  {
   "cell_type": "code",
   "execution_count": 54,
   "id": "c6d2510a",
   "metadata": {},
   "outputs": [
    {
     "data": {
      "text/plain": [
       "array([[[1., 1., 1.],\n",
       "        [1., 1., 1.],\n",
       "        [1., 1., 1.]],\n",
       "\n",
       "       [[1., 1., 1.],\n",
       "        [1., 1., 1.],\n",
       "        [1., 1., 1.]]])"
      ]
     },
     "execution_count": 54,
     "metadata": {},
     "output_type": "execute_result"
    }
   ],
   "source": [
    "np.ones((2,3,3))"
   ]
  },
  {
   "cell_type": "markdown",
   "id": "3634c7db",
   "metadata": {},
   "source": [
    "### dtype 定义数据类型\n",
    "### astype 转换数据类型"
   ]
  },
  {
   "cell_type": "code",
   "execution_count": 75,
   "id": "0d00dbd8",
   "metadata": {},
   "outputs": [
    {
     "data": {
      "text/plain": [
       "array([1., 2., 3.])"
      ]
     },
     "execution_count": 75,
     "metadata": {},
     "output_type": "execute_result"
    }
   ],
   "source": [
    "import numpy as np\n",
    "list=[1,2,3]\n",
    "arry_1=np.array(list,dtype=np.float64)\n",
    "arry_1"
   ]
  },
  {
   "cell_type": "code",
   "execution_count": 77,
   "id": "b047eed4",
   "metadata": {},
   "outputs": [
    {
     "data": {
      "text/plain": [
       "dtype('float64')"
      ]
     },
     "execution_count": 77,
     "metadata": {},
     "output_type": "execute_result"
    }
   ],
   "source": [
    "arry_1.dtype"
   ]
  },
  {
   "cell_type": "code",
   "execution_count": 78,
   "id": "f0253e81",
   "metadata": {},
   "outputs": [
    {
     "data": {
      "text/plain": [
       "array([1, 2, 3])"
      ]
     },
     "execution_count": 78,
     "metadata": {},
     "output_type": "execute_result"
    }
   ],
   "source": [
    "arry_2=arry_1.astype(int)\n",
    "arry_2"
   ]
  },
  {
   "cell_type": "code",
   "execution_count": 79,
   "id": "ab71521c",
   "metadata": {},
   "outputs": [
    {
     "data": {
      "text/plain": [
       "dtype('int32')"
      ]
     },
     "execution_count": 79,
     "metadata": {},
     "output_type": "execute_result"
    }
   ],
   "source": [
    "arry_2.dtype"
   ]
  },
  {
   "cell_type": "markdown",
   "id": "b95bc595",
   "metadata": {},
   "source": [
    "例子1："
   ]
  },
  {
   "cell_type": "code",
   "execution_count": 80,
   "id": "0cbf213e",
   "metadata": {},
   "outputs": [
    {
     "data": {
      "text/plain": [
       "array([ 3.7, -1.2, -2.6,  0.5, 12.9, 10.1])"
      ]
     },
     "execution_count": 80,
     "metadata": {},
     "output_type": "execute_result"
    }
   ],
   "source": [
    "list=[3.7, -1.2, -2.6, 0.5, 12.9, 10.1]\n",
    "arry_1=np.array(list)\n",
    "# arry接收list\n",
    "arry_1"
   ]
  },
  {
   "cell_type": "code",
   "execution_count": 81,
   "id": "472b63e5",
   "metadata": {},
   "outputs": [
    {
     "data": {
      "text/plain": [
       "array([ 3, -1, -2,  0, 12, 10])"
      ]
     },
     "execution_count": 81,
     "metadata": {},
     "output_type": "execute_result"
    }
   ],
   "source": [
    "# 数据处理1：变为整型\n",
    "arry_1_detal_1=arry_1.astype(int)\n",
    "arry_1_detal_1"
   ]
  },
  {
   "cell_type": "markdown",
   "id": "15187c8c",
   "metadata": {},
   "source": [
    "例子2：\n"
   ]
  },
  {
   "cell_type": "code",
   "execution_count": 83,
   "id": "2453ad9e",
   "metadata": {},
   "outputs": [
    {
     "data": {
      "text/plain": [
       "array(['1.25', '-9.6', '42'], dtype='<U4')"
      ]
     },
     "execution_count": 83,
     "metadata": {},
     "output_type": "execute_result"
    }
   ],
   "source": [
    "list=['1.25', '-9.6', '42']\n",
    "# dtype=string\n",
    "arry_1=np.array(list)\n",
    "arry_1"
   ]
  },
  {
   "cell_type": "code",
   "execution_count": 86,
   "id": "66835d52",
   "metadata": {},
   "outputs": [
    {
     "data": {
      "text/plain": [
       "array([ 1.25, -9.6 , 42.  ])"
      ]
     },
     "execution_count": 86,
     "metadata": {},
     "output_type": "execute_result"
    }
   ],
   "source": [
    "arry_1_detal_1=arry_1.astype(float)\n",
    "arry_1_detal_1"
   ]
  },
  {
   "cell_type": "code",
   "execution_count": 88,
   "id": "5048123e",
   "metadata": {},
   "outputs": [
    {
     "data": {
      "text/plain": [
       "array([ 1, -9, 42])"
      ]
     },
     "execution_count": 88,
     "metadata": {},
     "output_type": "execute_result"
    }
   ],
   "source": [
    "arry_1_detal_2=arry_1_detal_1.astype(int)\n",
    "arry_1_detal_2"
   ]
  },
  {
   "cell_type": "markdown",
   "id": "bca395e1",
   "metadata": {},
   "source": [
    "索引和切片问题"
   ]
  },
  {
   "cell_type": "markdown",
   "id": "fd777f03",
   "metadata": {},
   "source": [
    "数组："
   ]
  },
  {
   "cell_type": "code",
   "execution_count": 99,
   "id": "0c10573e",
   "metadata": {},
   "outputs": [
    {
     "data": {
      "text/plain": [
       "array([0, 1, 2, 3, 4, 5, 6, 7])"
      ]
     },
     "execution_count": 99,
     "metadata": {},
     "output_type": "execute_result"
    }
   ],
   "source": [
    "arr=np.arange(8)\n",
    "arr"
   ]
  },
  {
   "cell_type": "code",
   "execution_count": 100,
   "id": "a78e18ff",
   "metadata": {},
   "outputs": [
    {
     "data": {
      "text/plain": [
       "3"
      ]
     },
     "execution_count": 100,
     "metadata": {},
     "output_type": "execute_result"
    }
   ],
   "source": [
    "arr[3]"
   ]
  },
  {
   "cell_type": "code",
   "execution_count": 102,
   "id": "74974671",
   "metadata": {},
   "outputs": [
    {
     "data": {
      "text/plain": [
       "array([3, 4, 5, 6])"
      ]
     },
     "execution_count": 102,
     "metadata": {},
     "output_type": "execute_result"
    }
   ],
   "source": [
    "arr[3:7]"
   ]
  },
  {
   "cell_type": "code",
   "execution_count": 103,
   "id": "ca13420d",
   "metadata": {},
   "outputs": [
    {
     "data": {
      "text/plain": [
       "array([0, 1, 2, 3, 4, 5])"
      ]
     },
     "execution_count": 103,
     "metadata": {},
     "output_type": "execute_result"
    }
   ],
   "source": [
    "arr[:6]"
   ]
  },
  {
   "cell_type": "code",
   "execution_count": 105,
   "id": "5c94dae3",
   "metadata": {},
   "outputs": [
    {
     "data": {
      "text/plain": [
       "array([1, 1, 1, 1, 1, 1, 1, 1])"
      ]
     },
     "execution_count": 105,
     "metadata": {},
     "output_type": "execute_result"
    }
   ],
   "source": [
    "arr[:]=1\n",
    "arr"
   ]
  },
  {
   "cell_type": "markdown",
   "id": "614a9af1",
   "metadata": {},
   "source": [
    "矩阵："
   ]
  },
  {
   "cell_type": "code",
   "execution_count": 107,
   "id": "96d78d4c",
   "metadata": {},
   "outputs": [
    {
     "data": {
      "text/plain": [
       "array([[1, 2, 3, 4],\n",
       "       [5, 6, 7, 8]])"
      ]
     },
     "execution_count": 107,
     "metadata": {},
     "output_type": "execute_result"
    }
   ],
   "source": [
    "arr_1=[1,2,3,4]\n",
    "arr_2=[5,6,7,8]\n",
    "arr=np.array([arr_1,arr_2])\n",
    "arr"
   ]
  },
  {
   "cell_type": "code",
   "execution_count": 109,
   "id": "d38c714d",
   "metadata": {},
   "outputs": [
    {
     "data": {
      "text/plain": [
       "array([5, 6, 7, 8])"
      ]
     },
     "execution_count": 109,
     "metadata": {},
     "output_type": "execute_result"
    }
   ],
   "source": [
    "arr[1]"
   ]
  },
  {
   "cell_type": "code",
   "execution_count": 110,
   "id": "93ebc851",
   "metadata": {},
   "outputs": [
    {
     "data": {
      "text/plain": [
       "6"
      ]
     },
     "execution_count": 110,
     "metadata": {},
     "output_type": "execute_result"
    }
   ],
   "source": [
    "arr[1][1]"
   ]
  },
  {
   "cell_type": "code",
   "execution_count": 113,
   "id": "131cec6b",
   "metadata": {},
   "outputs": [
    {
     "data": {
      "text/plain": [
       "4"
      ]
     },
     "execution_count": 113,
     "metadata": {},
     "output_type": "execute_result"
    }
   ],
   "source": [
    "arr[0][3]"
   ]
  },
  {
   "cell_type": "code",
   "execution_count": 118,
   "id": "2dfdf962",
   "metadata": {},
   "outputs": [
    {
     "data": {
      "text/plain": [
       "array([5, 6])"
      ]
     },
     "execution_count": 118,
     "metadata": {},
     "output_type": "execute_result"
    }
   ],
   "source": [
    "arr[1,:2]"
   ]
  },
  {
   "cell_type": "markdown",
   "id": "f2a767a8",
   "metadata": {},
   "source": [
    "布尔索引\n",
    "例子：name=['kong wei yun','li mai qing','kong de min']\n",
    "不同的name对应data中对几组数据（随机生成数组），然后只取某个人的数据"
   ]
  },
  {
   "cell_type": "code",
   "execution_count": 127,
   "id": "2f62746e",
   "metadata": {},
   "outputs": [
    {
     "data": {
      "text/plain": [
       "array(['yun', 'qing', 'min'], dtype='<U4')"
      ]
     },
     "execution_count": 127,
     "metadata": {},
     "output_type": "execute_result"
    }
   ],
   "source": [
    "name=['yun','qing','min']\n",
    "name=np.array(name)\n",
    "name"
   ]
  },
  {
   "cell_type": "code",
   "execution_count": 120,
   "id": "505fdc47",
   "metadata": {},
   "outputs": [
    {
     "data": {
      "text/plain": [
       "array([[166,  95],\n",
       "       [155,  95],\n",
       "       [170, 120]])"
      ]
     },
     "execution_count": 120,
     "metadata": {},
     "output_type": "execute_result"
    }
   ],
   "source": [
    "data_yun=[166,95]\n",
    "data_qing=[155,95]\n",
    "data_min=[170,120]\n",
    "data=np.array([data_yun,data_qing,data_min])\n",
    "data"
   ]
  },
  {
   "cell_type": "code",
   "execution_count": 128,
   "id": "91207f59",
   "metadata": {},
   "outputs": [
    {
     "data": {
      "text/plain": [
       "array([ True, False, False])"
      ]
     },
     "execution_count": 128,
     "metadata": {},
     "output_type": "execute_result"
    }
   ],
   "source": [
    "name=='yun'"
   ]
  },
  {
   "cell_type": "code",
   "execution_count": 129,
   "id": "35498db3",
   "metadata": {},
   "outputs": [
    {
     "data": {
      "text/plain": [
       "array([[166,  95]])"
      ]
     },
     "execution_count": 129,
     "metadata": {},
     "output_type": "execute_result"
    }
   ],
   "source": [
    "# 从data中，取出yun的数据\n",
    "data[name=='yun']"
   ]
  },
  {
   "cell_type": "code",
   "execution_count": 130,
   "id": "1832e4f2",
   "metadata": {},
   "outputs": [
    {
     "data": {
      "text/plain": [
       "array([166])"
      ]
     },
     "execution_count": 130,
     "metadata": {},
     "output_type": "execute_result"
    }
   ],
   "source": [
    "# 取出yun的身高\n",
    "data[name=='yun',0]"
   ]
  },
  {
   "cell_type": "code",
   "execution_count": 131,
   "id": "3b3eabf5",
   "metadata": {},
   "outputs": [
    {
     "data": {
      "text/plain": [
       "array([[155,  95],\n",
       "       [170, 120]])"
      ]
     },
     "execution_count": 131,
     "metadata": {},
     "output_type": "execute_result"
    }
   ],
   "source": [
    "# 取出其他人的数据\n",
    "data[name!='yun']"
   ]
  },
  {
   "cell_type": "code",
   "execution_count": 146,
   "id": "eaaed3ad",
   "metadata": {},
   "outputs": [
    {
     "data": {
      "text/plain": [
       "array([155, 170])"
      ]
     },
     "execution_count": 146,
     "metadata": {},
     "output_type": "execute_result"
    }
   ],
   "source": [
    "# 取出这些人的身高\n",
    "# heigh=data[name!='yun']\n",
    "# heigh[:,0]\n",
    "\n",
    "data[name!='yun'][:,0]"
   ]
  },
  {
   "cell_type": "markdown",
   "id": "63d88300",
   "metadata": {},
   "source": [
    "一些其他用法"
   ]
  },
  {
   "cell_type": "code",
   "execution_count": 150,
   "id": "b55ed695",
   "metadata": {},
   "outputs": [
    {
     "data": {
      "text/plain": [
       "array([0, 1, 2, 3, 4, 5, 6, 7, 8, 9])"
      ]
     },
     "execution_count": 150,
     "metadata": {},
     "output_type": "execute_result"
    }
   ],
   "source": [
    "list=np.arange(10)\n",
    "arr=np.array(list)\n",
    "arr"
   ]
  },
  {
   "cell_type": "code",
   "execution_count": 152,
   "id": "e891235d",
   "metadata": {},
   "outputs": [
    {
     "data": {
      "text/plain": [
       "array([[ 0.16738415,  0.48597628, -0.24412268, -1.20839376, -0.69516963,\n",
       "         0.18593507, -1.29189008,  0.36033856, -1.23002835,  0.45371073],\n",
       "       [ 1.7047857 ,  0.48294924,  1.36747779, -1.12652136, -0.4647449 ,\n",
       "        -0.66768539,  0.05858262,  0.13273148,  0.77357363, -1.542155  ],\n",
       "       [-1.57210168, -0.10594237,  0.51527938,  1.70138527,  0.14603316,\n",
       "        -0.51973922, -0.19702442,  0.60219981,  0.68598505, -0.49158066],\n",
       "       [-1.32691785, -0.32803175, -1.02143111,  0.88815266, -1.36338585,\n",
       "         1.3539431 , -0.25565554,  0.58392426,  1.5457557 , -1.74677782],\n",
       "       [-1.81482814, -0.0998186 , -0.29930417, -0.25287244, -1.54367514,\n",
       "         1.23655456,  1.28716902, -0.77833491, -0.03219876,  0.69167858],\n",
       "       [ 0.32423044, -0.02030736,  0.96385866,  1.19166374, -1.0523445 ,\n",
       "        -1.09400957,  0.65567807,  0.37845355, -0.56650555,  0.12662495],\n",
       "       [-2.15520394, -1.5115895 ,  0.88015817,  0.72799555,  2.40344348,\n",
       "         0.93860959, -2.03330576, -0.4181199 ,  2.33285283,  0.27134411],\n",
       "       [ 0.2433975 ,  0.43343796, -0.53390926, -0.13814268,  1.21250272,\n",
       "         0.79427351,  0.55180245,  1.12475665,  0.24385648, -0.23468093],\n",
       "       [-0.03827666, -1.16882023,  0.81046584, -0.49410473,  0.63001378,\n",
       "         0.23750036,  0.25864229, -0.17506598, -2.37335188,  0.15742945],\n",
       "       [-0.36993952,  0.58516939,  0.74115699,  0.24218108, -0.40937694,\n",
       "        -0.24568113, -0.72032779, -0.38106644,  1.19634862, -1.17314852]])"
      ]
     },
     "execution_count": 152,
     "metadata": {},
     "output_type": "execute_result"
    }
   ],
   "source": [
    "data=np.random.randn(10,10)\n",
    "data"
   ]
  },
  {
   "cell_type": "code",
   "execution_count": 156,
   "id": "4a71611a",
   "metadata": {},
   "outputs": [
    {
     "data": {
      "text/plain": [
       "array([ True, False,  True, False,  True, False,  True, False,  True,\n",
       "       False])"
      ]
     },
     "execution_count": 156,
     "metadata": {},
     "output_type": "execute_result"
    }
   ],
   "source": [
    "# 只取偶数的数组\n",
    "arr%2==0"
   ]
  },
  {
   "cell_type": "code",
   "execution_count": 157,
   "id": "9d3eeb5e",
   "metadata": {},
   "outputs": [
    {
     "data": {
      "text/plain": [
       "array([[ 0.16738415,  0.48597628, -0.24412268, -1.20839376, -0.69516963,\n",
       "         0.18593507, -1.29189008,  0.36033856, -1.23002835,  0.45371073],\n",
       "       [-1.57210168, -0.10594237,  0.51527938,  1.70138527,  0.14603316,\n",
       "        -0.51973922, -0.19702442,  0.60219981,  0.68598505, -0.49158066],\n",
       "       [-1.81482814, -0.0998186 , -0.29930417, -0.25287244, -1.54367514,\n",
       "         1.23655456,  1.28716902, -0.77833491, -0.03219876,  0.69167858],\n",
       "       [-2.15520394, -1.5115895 ,  0.88015817,  0.72799555,  2.40344348,\n",
       "         0.93860959, -2.03330576, -0.4181199 ,  2.33285283,  0.27134411],\n",
       "       [-0.03827666, -1.16882023,  0.81046584, -0.49410473,  0.63001378,\n",
       "         0.23750036,  0.25864229, -0.17506598, -2.37335188,  0.15742945]])"
      ]
     },
     "execution_count": 157,
     "metadata": {},
     "output_type": "execute_result"
    }
   ],
   "source": [
    "data[arr%2==0]"
   ]
  },
  {
   "cell_type": "markdown",
   "id": "71a76d6d",
   "metadata": {},
   "source": [
    "神奇索引"
   ]
  },
  {
   "cell_type": "code",
   "execution_count": 169,
   "id": "4a778c10",
   "metadata": {},
   "outputs": [
    {
     "data": {
      "text/plain": [
       "array([[0., 0., 0., 0.],\n",
       "       [1., 1., 1., 1.],\n",
       "       [2., 2., 2., 2.],\n",
       "       [3., 3., 3., 3.],\n",
       "       [4., 4., 4., 4.],\n",
       "       [5., 5., 5., 5.],\n",
       "       [6., 6., 6., 6.],\n",
       "       [7., 7., 7., 7.]])"
      ]
     },
     "execution_count": 169,
     "metadata": {},
     "output_type": "execute_result"
    }
   ],
   "source": [
    "arr=np.empty((8,4))\n",
    "for i in range(8):\n",
    "    arr[i]=i\n",
    "arr"
   ]
  },
  {
   "cell_type": "code",
   "execution_count": 171,
   "id": "1b9ef21b",
   "metadata": {},
   "outputs": [
    {
     "data": {
      "text/plain": [
       "array([[0., 0., 0., 0.],\n",
       "       [3., 3., 3., 3.],\n",
       "       [6., 6., 6., 6.]])"
      ]
     },
     "execution_count": 171,
     "metadata": {},
     "output_type": "execute_result"
    }
   ],
   "source": [
    "# 取0,3，6行的数组\n",
    "arr[[0,3,6]]"
   ]
  },
  {
   "cell_type": "code",
   "execution_count": 173,
   "id": "e595d6cc",
   "metadata": {},
   "outputs": [
    {
     "data": {
      "text/plain": [
       "array([[ 0,  1,  2,  3],\n",
       "       [ 4,  5,  6,  7],\n",
       "       [ 8,  9, 10, 11],\n",
       "       [12, 13, 14, 15],\n",
       "       [16, 17, 18, 19]])"
      ]
     },
     "execution_count": 173,
     "metadata": {},
     "output_type": "execute_result"
    }
   ],
   "source": [
    "# 生成0-20的五行四列数组\n",
    "arr=np.arange(20).reshape((5,4))\n",
    "arr"
   ]
  },
  {
   "cell_type": "code",
   "execution_count": 178,
   "id": "8908d2d7",
   "metadata": {},
   "outputs": [
    {
     "data": {
      "text/plain": [
       "array([ 2, 10, 18])"
      ]
     },
     "execution_count": 178,
     "metadata": {},
     "output_type": "execute_result"
    }
   ],
   "source": [
    "# 取[0][2][4]行的第[2]列\n",
    "arr[[0,2,4],[2]]"
   ]
  },
  {
   "cell_type": "markdown",
   "id": "68ea9d70",
   "metadata": {},
   "source": [
    "数组转置和换轴"
   ]
  },
  {
   "cell_type": "code",
   "execution_count": 180,
   "id": "8df57e83",
   "metadata": {},
   "outputs": [
    {
     "data": {
      "text/plain": [
       "array([[ 0,  1,  2,  3,  4],\n",
       "       [ 5,  6,  7,  8,  9],\n",
       "       [10, 11, 12, 13, 14]])"
      ]
     },
     "execution_count": 180,
     "metadata": {},
     "output_type": "execute_result"
    }
   ],
   "source": [
    "arr=np.arange(15).reshape((3,5))\n",
    "arr"
   ]
  },
  {
   "cell_type": "code",
   "execution_count": 181,
   "id": "cd06a6e9",
   "metadata": {},
   "outputs": [
    {
     "data": {
      "text/plain": [
       "array([[ 0,  5, 10],\n",
       "       [ 1,  6, 11],\n",
       "       [ 2,  7, 12],\n",
       "       [ 3,  8, 13],\n",
       "       [ 4,  9, 14]])"
      ]
     },
     "execution_count": 181,
     "metadata": {},
     "output_type": "execute_result"
    }
   ],
   "source": [
    "arr.T"
   ]
  },
  {
   "cell_type": "code",
   "execution_count": 182,
   "id": "b33b842e",
   "metadata": {},
   "outputs": [
    {
     "data": {
      "text/plain": [
       "array([[0, 1],\n",
       "       [2, 3]])"
      ]
     },
     "execution_count": 182,
     "metadata": {},
     "output_type": "execute_result"
    }
   ],
   "source": [
    "arr_1=np.arange(4).reshape((2,2))\n",
    "arr_1"
   ]
  },
  {
   "cell_type": "code",
   "execution_count": 185,
   "id": "6bba8ec8",
   "metadata": {},
   "outputs": [
    {
     "data": {
      "text/plain": [
       "array([[ 1,  3],\n",
       "       [ 3, 13]])"
      ]
     },
     "execution_count": 185,
     "metadata": {},
     "output_type": "execute_result"
    }
   ],
   "source": [
    "# dot内积\n",
    "np.dot(arr_1,arr_1.T)"
   ]
  },
  {
   "cell_type": "markdown",
   "id": "d27524bd",
   "metadata": {},
   "source": [
    "通用函数：对数组中的每个数进行同一个函数的操作"
   ]
  },
  {
   "cell_type": "code",
   "execution_count": 186,
   "id": "1032b174",
   "metadata": {},
   "outputs": [
    {
     "data": {
      "text/plain": [
       "array([0, 1, 2, 3, 4, 5, 6, 7, 8, 9])"
      ]
     },
     "execution_count": 186,
     "metadata": {},
     "output_type": "execute_result"
    }
   ],
   "source": [
    "arr=np.arange(10)\n",
    "arr"
   ]
  },
  {
   "cell_type": "code",
   "execution_count": 187,
   "id": "f9d2cd75",
   "metadata": {},
   "outputs": [
    {
     "data": {
      "text/plain": [
       "array([0.        , 1.        , 1.41421356, 1.73205081, 2.        ,\n",
       "       2.23606798, 2.44948974, 2.64575131, 2.82842712, 3.        ])"
      ]
     },
     "execution_count": 187,
     "metadata": {},
     "output_type": "execute_result"
    }
   ],
   "source": [
    "# 开方\n",
    "np.sqrt(arr)"
   ]
  },
  {
   "cell_type": "markdown",
   "id": "8b1c67c4",
   "metadata": {},
   "source": [
    "e的n次方 np.exp()\n",
    "比较最大值 np.maximum(x,y)\n",
    "将浮点数分为整数和小数部分 remainder,whole_part=np.modf()\n",
    "\n",
    "# 一元通用函数\n",
    "也就是针对一个数组进行的操作：\n",
    "\n",
    "abs、fabs 整数 浮点数取绝对值\n",
    "\n",
    "sqrt 平方根\n",
    "\n",
    "square 平方\n",
    "\n",
    "exp e的n次方\n",
    "\n",
    "log、log10、log2、log1p\n",
    "\n",
    "sign 符号值，1，0，-1，正数0负数\n",
    "\n",
    "ceil 大于等于给定数字的最小整数\n",
    "\n",
    "floor 小于给定数字的最大整数\n",
    "\n",
    "rint 保留整数，dtype不变\n",
    "\n",
    "modf 小数部分与整数部分分开，分别作为数组返回\n",
    "\n",
    "isnan 判断返回的东西，是不是nan，nan不是数值，得到布尔值\n",
    "\n",
    "isfinite、isinf 判断是否有限，是否无限，得到布尔值\n",
    "\n",
    "cos、cosh、sin、sinh、tan、tanh 三角函数\n",
    "\n",
    "arccos、arccosh、arcsin、arcsinh、arctan、arctanh 反三角函数\n",
    "\n",
    "logical_not 对数组的元素取反，相当于~arr\n",
    "\n",
    "0305\n",
    "\n",
    "# 二元通用函数\n",
    "也就是针对两个数组进行的操作：\n",
    "\n",
    "add 数组的对应元素相加\n",
    "\n",
    "subtract 第二个数组中提出第一个数组中的元素\n",
    "\n",
    "multiply 对应元素相乘\n",
    "\n",
    "divide，floor_divide 除或整除\n",
    "\n",
    "power [1,2],[3,4] 得到 [13=1, 24=16]\n",
    "\n",
    "maximum, fmax 最大值，fmax忽略nan\n",
    "\n",
    "minimum，fmin 最小值，fmin忽略nan\n",
    "\n",
    "mod 除法余数\n",
    "\n",
    "copysign [2,1] [-1,2] 变成 [-2,1]\n",
    "\n",
    "greater，greater_equal，less，less_equal，equal，not_equal 大于等于啥的\n",
    "\n",
    "logical_and，logical_or，logical_xor 逻辑操作\n"
   ]
  },
  {
   "cell_type": "markdown",
   "id": "09a6d3d1",
   "metadata": {},
   "source": [
    "### meshgrid的用法\n",
    "二维坐标系中,X轴可以取三个值 1,2,3, Y轴可以取三个值 7,8, 请问可以获得多少个点的坐标?\n",
    "显而易见是 6 个:\n",
    "(1, 7) (2, 7) (3, 7)\n",
    "(1, 8) (2, 8) (3, 8)\n",
    "\n",
    "np.meshgrid() 就是干这个的!\n",
    "https://blog.csdn.net/qq_38701868/article/details/99694048?ops_request_misc=%257B%2522request%255Fid%2522%253A%2522166495706816782390525201%2522%252C%2522scm%2522%253A%252220140713.130102334..%2522%257D&request_id=166495706816782390525201&biz_id=0&utm_medium=distribute.pc_search_result.none-task-blog-2~all~top_positive~default-1-99694048-null-null.142^v51^control,201^v3^add_ask&utm_term=np.meshgrid&spm=1018.2226.3001.4187"
   ]
  },
  {
   "cell_type": "code",
   "execution_count": 197,
   "id": "1323c817",
   "metadata": {},
   "outputs": [
    {
     "data": {
      "text/plain": [
       "[array([[1, 2, 3],\n",
       "        [1, 2, 3]]),\n",
       " array([[7, 7, 7],\n",
       "        [8, 8, 8]])]"
      ]
     },
     "execution_count": 197,
     "metadata": {},
     "output_type": "execute_result"
    }
   ],
   "source": [
    "import numpy as np\n",
    "a = np.array([1,2,3])\n",
    "b = np.array([7,8])\n",
    "# 返回list,有两个元素,第一个元素是X轴的取值,第二个元素是Y轴的取值\n",
    "arr = np.meshgrid(a,b)\n",
    "arr"
   ]
  },
  {
   "cell_type": "code",
   "execution_count": 198,
   "id": "ba337eed",
   "metadata": {},
   "outputs": [
    {
     "name": "stdout",
     "output_type": "stream",
     "text": [
      "X的维度:2,shape:(2, 3)\n",
      "Y的维度:2,shape:(2, 3)\n"
     ]
    },
    {
     "data": {
      "image/png": "[encoded data removed]",
      "text/plain": [
       "<Figure size 432x288 with 1 Axes>"
      ]
     },
     "metadata": {
      "needs_background": "light"
     },
     "output_type": "display_data"
    }
   ],
   "source": [
    "# 创建两行三列的网格点矩阵\n",
    "import numpy as np\n",
    "import matplotlib.pyplot as plt\n",
    "\n",
    "X = np.array([[0, 0.5, 1],[0, 0.5, 1]])\n",
    "print(\"X的维度:{},shape:{}\".format(X.ndim, X.shape))\n",
    "Y = np.array([[0, 0, 0],[1, 1, 1]])\n",
    "print(\"Y的维度:{},shape:{}\".format(Y.ndim, Y.shape))\n",
    "\n",
    "plt.plot(X, Y, 'o--')\n",
    "plt.grid(True)\n",
    "# 生成网格\n",
    "plt.show()"
   ]
  },
  {
   "cell_type": "code",
   "execution_count": 233,
   "id": "d9da7c50",
   "metadata": {},
   "outputs": [
    {
     "name": "stdout",
     "output_type": "stream",
     "text": [
      "x的维度:1,shape:(30,)\n",
      "y的维度:1,shape:(20,)\n",
      "xv的维度:2,shape:(20, 30)\n",
      "yv的维度:2,shape:(20, 30)\n"
     ]
    },
    {
     "data": {
      "image/png": "[encoded data removed]",
      "text/plain": [
       "<Figure size 432x288 with 1 Axes>"
      ]
     },
     "metadata": {
      "needs_background": "light"
     },
     "output_type": "display_data"
    }
   ],
   "source": [
    "# 20行(y)30列（x）的网格点矩阵\n",
    "x = np.linspace(0,500,30)\n",
    "print(\"x的维度:{},shape:{}\".format(x.ndim, x.shape))\n",
    "\n",
    "y = np.linspace(0,500,20)\n",
    "print(\"y的维度:{},shape:{}\".format(y.ndim, y.shape))\n",
    "\n",
    "xv,yv = np.meshgrid(x, y)\n",
    "print(\"xv的维度:{},shape:{}\".format(xv.ndim, xv.shape))\n",
    "print(\"yv的维度:{},shape:{}\".format(yv.ndim, yv.shape))\n",
    "\n",
    "plt.plot(xv, yv, '*')\n",
    "plt.grid(True)\n",
    "plt.show()"
   ]
  },
  {
   "cell_type": "code",
   "execution_count": 206,
   "id": "53237e79",
   "metadata": {},
   "outputs": [],
   "source": [
    "a=np.arange(0,10,0.1)\n",
    "#100个数\n",
    "b=np.arange(-5,5,0.1)\n",
    "#100个数\n",
    "#构成（100*99）/2组坐标值\n",
    "x,y=np.meshgrid(a,b)\n"
   ]
  },
  {
   "cell_type": "code",
   "execution_count": 207,
   "id": "ed48f872",
   "metadata": {},
   "outputs": [
    {
     "data": {
      "text/plain": [
       "array([[ 5.        ,  5.0009999 ,  5.0039984 , ..., 10.91283648,\n",
       "        11.00181803, 11.09098733],\n",
       "       [ 4.9       ,  4.9010203 ,  4.90407993, ..., 10.86738239,\n",
       "        10.95673309, 11.04626634],\n",
       "       [ 4.8       ,  4.80104155,  4.80416486, ..., 10.82266141,\n",
       "        10.91237829, 11.00227249],\n",
       "       ...,\n",
       "       [ 4.7       ,  4.70106371,  4.70425339, ..., 10.77868267,\n",
       "        10.86876258, 10.95901455],\n",
       "       [ 4.8       ,  4.80104155,  4.80416486, ..., 10.82266141,\n",
       "        10.91237829, 11.00227249],\n",
       "       [ 4.9       ,  4.9010203 ,  4.90407993, ..., 10.86738239,\n",
       "        10.95673309, 11.04626634]])"
      ]
     },
     "execution_count": 207,
     "metadata": {},
     "output_type": "execute_result"
    }
   ],
   "source": [
    "z=np.sqrt(x**2+y**2)"
   ]
  },
  {
   "cell_type": "code",
   "execution_count": 224,
   "id": "266b4382",
   "metadata": {},
   "outputs": [
    {
     "data": {
      "text/plain": [
       "Text(0.5, 1.0, 'a test')"
      ]
     },
     "execution_count": 224,
     "metadata": {},
     "output_type": "execute_result"
    },
    {
     "data": {
      "image/png": "[encoded data removed]",
      "text/plain": [
       "<Figure size 432x288 with 2 Axes>"
      ]
     },
     "metadata": {
      "needs_background": "light"
     },
     "output_type": "display_data"
    }
   ],
   "source": [
    "plt.imshow(z,cmap='gray')\n",
    "# imshow，将数值以热图形式展示，具体解释如下\n",
    "plt.colorbar()\n",
    "# 显示右边那个条条\n",
    "plt.title(\"a test\")"
   ]
  },
  {
   "cell_type": "markdown",
   "id": "427aa8d2",
   "metadata": {},
   "source": [
    "关于imshow的解释：https://blog.csdn.net/bayern_xie/article/details/119248877?ops_request_misc=&request_id=&biz_id=102&utm_term=plt.imshow()%E7%94%A8%E6%B3%95&utm_medium=distribute.pc_search_result.none-task-blog-2~all~sobaiduweb~default-1-119248877.142^v51^control,201^v3^add_ask&spm=1018.2226.3001.4187"
   ]
  },
  {
   "cell_type": "code",
   "execution_count": 230,
   "id": "b0d84616",
   "metadata": {},
   "outputs": [
    {
     "data": {
      "text/plain": [
       "<matplotlib.colorbar.Colorbar at 0x1d1f12e6280>"
      ]
     },
     "execution_count": 230,
     "metadata": {},
     "output_type": "execute_result"
    },
    {
     "data": {
      "image/png": "[encoded data removed]",
      "text/plain": [
       "<Figure size 432x288 with 2 Axes>"
      ]
     },
     "metadata": {
      "needs_background": "light"
     },
     "output_type": "display_data"
    }
   ],
   "source": [
    "num=np.arange(-10,10,0.1)\n",
    "x,y=np.meshgrid(num,num)\n",
    "z=np.sqrt(x**2+y**2)\n",
    "plt.imshow(z,cmap='hot')\n",
    "plt.colorbar()"
   ]
  },
  {
   "cell_type": "markdown",
   "id": "de4a2983",
   "metadata": {},
   "source": [
    "将条件逻辑作为数组操作"
   ]
  },
  {
   "cell_type": "code",
   "execution_count": 246,
   "id": "4938c262",
   "metadata": {},
   "outputs": [],
   "source": [
    "xarr = np.array([1.1, 1.2, 1.3, 1.4, 1.5])\n",
    "yarr = np.array([2.1, 2.2, 2.3, 2.4, 2.5])\n",
    "cond = np.array([True, False, True, True, False])"
   ]
  },
  {
   "cell_type": "code",
   "execution_count": 247,
   "id": "81010415",
   "metadata": {},
   "outputs": [
    {
     "data": {
      "text/plain": [
       "[1.1, 2.2, 1.3, 1.4, 2.5]"
      ]
     },
     "execution_count": 247,
     "metadata": {},
     "output_type": "execute_result"
    }
   ],
   "source": [
    "result = [(x if c else y) ## if满足，要x，if不满足，要y\n",
    "          for x, y, c in zip(xarr, yarr, cond)]\n",
    "result"
   ]
  },
  {
   "cell_type": "markdown",
   "id": "e7676b5f",
   "metadata": {},
   "source": [
    "数组大的时候不适用，\n",
    "适合用where"
   ]
  },
  {
   "cell_type": "code",
   "execution_count": 248,
   "id": "b6ea69b2",
   "metadata": {},
   "outputs": [
    {
     "data": {
      "text/plain": [
       "array([1.1, 2.2, 1.3, 1.4, 2.5])"
      ]
     },
     "execution_count": 248,
     "metadata": {},
     "output_type": "execute_result"
    }
   ],
   "source": [
    "result = np.where(cond, xarr, yarr) ## 判断，如果是,输出xarr，如果不是，输出yarr\n",
    "result"
   ]
  },
  {
   "cell_type": "code",
   "execution_count": 249,
   "id": "4ba40959",
   "metadata": {},
   "outputs": [
    {
     "data": {
      "text/plain": [
       "array([[ 1.97512264, -1.86457415, -1.6998843 ,  0.51691588],\n",
       "       [-1.50257246,  0.3223229 ,  0.89477865,  1.27075398],\n",
       "       [ 2.29475383, -0.88196068,  0.71701403,  0.27418733],\n",
       "       [-1.3649861 ,  0.49780331, -1.3834599 , -0.85240612]])"
      ]
     },
     "execution_count": 249,
     "metadata": {},
     "output_type": "execute_result"
    }
   ],
   "source": [
    "#例如：\n",
    "arr=np.random.randn(4,4)\n",
    "arr"
   ]
  },
  {
   "cell_type": "code",
   "execution_count": 251,
   "id": "ea1516a4",
   "metadata": {},
   "outputs": [
    {
     "data": {
      "text/plain": [
       "array([[1.97512264, 0.        , 0.        , 0.51691588],\n",
       "       [0.        , 0.3223229 , 0.89477865, 1.27075398],\n",
       "       [2.29475383, 0.        , 0.71701403, 0.27418733],\n",
       "       [0.        , 0.49780331, 0.        , 0.        ]])"
      ]
     },
     "execution_count": 251,
     "metadata": {},
     "output_type": "execute_result"
    }
   ],
   "source": [
    "np.where(arr>0,arr,0)\n",
    "# 大于0 的时候不变，小于0输出为0"
   ]
  },
  {
   "cell_type": "markdown",
   "id": "20af02b7",
   "metadata": {},
   "source": [
    "# 数学和统计学方法\n",
    "\n",
    "sum 沿着轴方向计算所有元素的累和，0长度的数组，累计和为0\n",
    "\n",
    "mean 数学平均，0长度的数组平均值为NaN\n",
    "\n",
    "std,var 标准差和方差，可以选择自由调整度，默认分母是n\n",
    "\n",
    "min,max 最小值和最大值\n",
    "\n",
    "argmin,argmax 最小值和最大值的位置\n",
    "\n",
    "cumsun 从0开始元素累积和\n",
    "\n",
    "cumprod 从1开始元素累积积"
   ]
  },
  {
   "cell_type": "code",
   "execution_count": 252,
   "id": "cb0bf6f3",
   "metadata": {},
   "outputs": [
    {
     "data": {
      "text/plain": [
       "array([[ 0,  1,  2,  3,  4],\n",
       "       [ 5,  6,  7,  8,  9],\n",
       "       [10, 11, 12, 13, 14],\n",
       "       [15, 16, 17, 18, 19]])"
      ]
     },
     "execution_count": 252,
     "metadata": {},
     "output_type": "execute_result"
    }
   ],
   "source": [
    "# mean()平均数\n",
    "arr=np.arange(20).reshape(4,5)\n",
    "arr"
   ]
  },
  {
   "cell_type": "code",
   "execution_count": 253,
   "id": "cf2875bb",
   "metadata": {},
   "outputs": [
    {
     "data": {
      "text/plain": [
       "9.5"
      ]
     },
     "execution_count": 253,
     "metadata": {},
     "output_type": "execute_result"
    }
   ],
   "source": [
    "arr.mean()"
   ]
  },
  {
   "cell_type": "code",
   "execution_count": 254,
   "id": "39b6fbd0",
   "metadata": {},
   "outputs": [
    {
     "data": {
      "text/plain": [
       "array([ 2.,  7., 12., 17.])"
      ]
     },
     "execution_count": 254,
     "metadata": {},
     "output_type": "execute_result"
    }
   ],
   "source": [
    "arr.mean(axis=1) # 求每行的平均数"
   ]
  },
  {
   "cell_type": "code",
   "execution_count": 255,
   "id": "9dd53e74",
   "metadata": {},
   "outputs": [
    {
     "data": {
      "text/plain": [
       "190"
      ]
     },
     "execution_count": 255,
     "metadata": {},
     "output_type": "execute_result"
    }
   ],
   "source": [
    "arr.sum()"
   ]
  },
  {
   "cell_type": "code",
   "execution_count": 256,
   "id": "12650f07",
   "metadata": {},
   "outputs": [
    {
     "data": {
      "text/plain": [
       "array([  0,   1,   3,   6,  10,  15,  21,  28,  36,  45,  55,  66,  78,\n",
       "        91, 105, 120, 136, 153, 171, 190], dtype=int32)"
      ]
     },
     "execution_count": 256,
     "metadata": {},
     "output_type": "execute_result"
    }
   ],
   "source": [
    "arr.cumsum() #前几位累加"
   ]
  },
  {
   "cell_type": "code",
   "execution_count": 261,
   "id": "64207481",
   "metadata": {},
   "outputs": [
    {
     "data": {
      "text/plain": [
       "array([[ 0,  1,  3,  6, 10],\n",
       "       [ 5, 11, 18, 26, 35],\n",
       "       [10, 21, 33, 46, 60],\n",
       "       [15, 31, 48, 66, 85]], dtype=int32)"
      ]
     },
     "execution_count": 261,
     "metadata": {},
     "output_type": "execute_result"
    }
   ],
   "source": [
    "arr.cumsum(axis=1) #cumsum 函数按行进行"
   ]
  },
  {
   "cell_type": "code",
   "execution_count": 263,
   "id": "593ebd46",
   "metadata": {},
   "outputs": [
    {
     "data": {
      "text/plain": [
       "array([[ 0,  1,  2,  3,  4],\n",
       "       [ 5,  7,  9, 11, 13],\n",
       "       [15, 18, 21, 24, 27],\n",
       "       [30, 34, 38, 42, 46]], dtype=int32)"
      ]
     },
     "execution_count": 263,
     "metadata": {},
     "output_type": "execute_result"
    }
   ],
   "source": [
    "arr.cumsum(axis=0) #cumsum 函数按列进行"
   ]
  },
  {
   "cell_type": "markdown",
   "id": "de8c646f",
   "metadata": {},
   "source": [
    "### 布尔值数组"
   ]
  },
  {
   "cell_type": "code",
   "execution_count": 266,
   "id": "f60b9185",
   "metadata": {},
   "outputs": [
    {
     "data": {
      "text/plain": [
       "array([ 0.14308542, -0.65530492,  1.23064822, -0.34364853,  1.3851271 ,\n",
       "       -0.64578487])"
      ]
     },
     "execution_count": 266,
     "metadata": {},
     "output_type": "execute_result"
    }
   ],
   "source": [
    "arr=np.random.randn(6)\n",
    "arr"
   ]
  },
  {
   "cell_type": "code",
   "execution_count": 267,
   "id": "1bd5d6bb",
   "metadata": {},
   "outputs": [
    {
     "data": {
      "text/plain": [
       "3"
      ]
     },
     "execution_count": 267,
     "metadata": {},
     "output_type": "execute_result"
    }
   ],
   "source": [
    "(arr>0).sum()"
   ]
  },
  {
   "cell_type": "code",
   "execution_count": 268,
   "id": "59121794",
   "metadata": {},
   "outputs": [
    {
     "data": {
      "text/plain": [
       "True"
      ]
     },
     "execution_count": 268,
     "metadata": {},
     "output_type": "execute_result"
    }
   ],
   "source": [
    "bools=np.array([False,False,True,False])\n",
    "bools.any()# 有True即为True"
   ]
  },
  {
   "cell_type": "code",
   "execution_count": 269,
   "id": "8e9922f8",
   "metadata": {},
   "outputs": [
    {
     "data": {
      "text/plain": [
       "False"
      ]
     },
     "execution_count": 269,
     "metadata": {},
     "output_type": "execute_result"
    }
   ],
   "source": [
    "bools.all() #都为True即为True，反之为False"
   ]
  },
  {
   "cell_type": "markdown",
   "id": "56f11347",
   "metadata": {},
   "source": [
    "### 排序\n",
    "#### sort()改变原序列"
   ]
  },
  {
   "cell_type": "code",
   "execution_count": 270,
   "id": "a6576c97",
   "metadata": {},
   "outputs": [
    {
     "data": {
      "text/plain": [
       "array([ 0.57649297, -0.0715895 ,  1.00627142, -0.66717176,  0.16163374,\n",
       "       -0.60247764])"
      ]
     },
     "execution_count": 270,
     "metadata": {},
     "output_type": "execute_result"
    }
   ],
   "source": [
    "arr=np.random.randn(6)\n",
    "arr"
   ]
  },
  {
   "cell_type": "code",
   "execution_count": 273,
   "id": "4e2fa33f",
   "metadata": {},
   "outputs": [
    {
     "data": {
      "text/plain": [
       "array([-0.66717176, -0.60247764, -0.0715895 ,  0.16163374,  0.57649297,\n",
       "        1.00627142])"
      ]
     },
     "execution_count": 273,
     "metadata": {},
     "output_type": "execute_result"
    }
   ],
   "source": [
    "arr.sort()\n",
    "arr"
   ]
  },
  {
   "cell_type": "code",
   "execution_count": 274,
   "id": "9fe3d443",
   "metadata": {},
   "outputs": [
    {
     "data": {
      "text/plain": [
       "array([[-1.11321206,  0.48513445,  0.7602665 ],\n",
       "       [-0.52822401, -1.38653172,  1.23208423],\n",
       "       [ 1.09020779,  0.78379545, -1.14142471],\n",
       "       [ 0.91073384, -0.53819577,  1.81539343],\n",
       "       [ 0.53258174,  0.53936221, -1.46864944]])"
      ]
     },
     "execution_count": 274,
     "metadata": {},
     "output_type": "execute_result"
    }
   ],
   "source": [
    "arr=np.random.randn(5,3)\n",
    "arr"
   ]
  },
  {
   "cell_type": "code",
   "execution_count": 277,
   "id": "e11876bb",
   "metadata": {},
   "outputs": [
    {
     "data": {
      "text/plain": [
       "array([[-1.11321206,  0.48513445,  0.7602665 ],\n",
       "       [-1.38653172, -0.52822401,  1.23208423],\n",
       "       [-1.14142471,  0.78379545,  1.09020779],\n",
       "       [-0.53819577,  0.91073384,  1.81539343],\n",
       "       [-1.46864944,  0.53258174,  0.53936221]])"
      ]
     },
     "execution_count": 277,
     "metadata": {},
     "output_type": "execute_result"
    }
   ],
   "source": [
    "arr.sort(1) \n",
    "arr"
   ]
  },
  {
   "cell_type": "code",
   "execution_count": 278,
   "id": "64d6dcbb",
   "metadata": {
    "scrolled": true
   },
   "outputs": [
    {
     "data": {
      "text/plain": [
       "array([[-1.46864944, -0.52822401,  0.53936221],\n",
       "       [-1.38653172,  0.48513445,  0.7602665 ],\n",
       "       [-1.14142471,  0.53258174,  1.09020779],\n",
       "       [-1.11321206,  0.78379545,  1.23208423],\n",
       "       [-0.53819577,  0.91073384,  1.81539343]])"
      ]
     },
     "execution_count": 278,
     "metadata": {},
     "output_type": "execute_result"
    }
   ],
   "source": [
    "arr.sort(0)\n",
    "arr"
   ]
  },
  {
   "cell_type": "markdown",
   "id": "b9a40085",
   "metadata": {},
   "source": [
    "### 唯一值和其他集合逻辑\n",
    "np.unique\n",
    "\n",
    "### 数组的集合操作\n",
    "unique(x) 计算x的唯一值，并排序\n",
    "\n",
    "intersect1d(x, y) 计算x和y的交集，并排序\n",
    "\n",
    "union1d(x, y) 计算x和y的并集，并排序\n",
    "\n",
    "in1d(x, y) 计算x中的元素是否包含在y中，返回一个布尔值数值组\n",
    "\n",
    "setdiff1d(x, y) 差集，在x中但不在y中的x的元素\n",
    "\n",
    "setxor1d(x, y) 在x或在y，不同时在xy中"
   ]
  },
  {
   "cell_type": "code",
   "execution_count": 283,
   "id": "8dd402ec",
   "metadata": {},
   "outputs": [
    {
     "data": {
      "text/plain": [
       "array(['孔得民', '孔维云', '李麦青'], dtype='<U3')"
      ]
     },
     "execution_count": 283,
     "metadata": {},
     "output_type": "execute_result"
    }
   ],
   "source": [
    "name=np.array(['孔维云','孔维云','李麦青','孔得民'])\n",
    "np.unique(name)"
   ]
  },
  {
   "cell_type": "markdown",
   "id": "3eaf3c55",
   "metadata": {},
   "source": [
    "# 线性函数\n",
    "\n",
    "diag 将方阵的对角元素 -- 一位数组，之间转换，空白默认用0\n",
    "\n",
    "dot 矩阵点乘\n",
    "\n",
    "trace 对角元素和\n",
    "\n",
    "det 矩阵的行列式\n",
    "\n",
    "eig 特征值和特征向量\n",
    "\n",
    "inv 逆矩阵\n",
    "\n",
    "pinv 计算矩阵的Moore-Penrose伪逆向，什么鬼\n",
    "\n",
    "qr 计算QR分解\n",
    "\n",
    "svd 计算奇异值分解（SVD）\n",
    "\n",
    "solve 求解x的线性系统 Ax = b， 其中A是方阵\n",
    "\n",
    "lstsq 计算 Ax = b 的最小二乘解"
   ]
  },
  {
   "cell_type": "markdown",
   "id": "9c104eb3",
   "metadata": {},
   "source": [
    "# 伪随机数生成\n",
    "\n",
    "seed 向随机数生成器传递随机状态种子\n",
    "\n",
    "permutation 返回一个序列的随机排列，或返回一个乱序的整数范围序列\n",
    "\n",
    "shuffle 随机排列一个序列\n",
    "\n",
    "rand 从均匀分布中抽取样本\n",
    "\n",
    "randint 根据给定的由低到高的范围抽取随机整数\n",
    "\n",
    "randn 从均值0方差1的正太分布中抽取样本（MATLAB型接口）\n",
    "\n",
    "binomial 从二项分布中抽取样本\n",
    "\n",
    "normal 从正太分布中抽取样本\n",
    "\n",
    "beta 从beta分布中抽取样本\n",
    "\n",
    "chisqueare 从卡方分布中抽取样本\n",
    "\n",
    "gamma 从伽马分布中抽取样本\n",
    "\n",
    "uniform 从均匀[0,1)分布中抽取样本"
   ]
  },
  {
   "cell_type": "markdown",
   "id": "0a09bde4",
   "metadata": {},
   "source": [
    "# 应用举例：随机漫步（模拟投硬币）"
   ]
  },
  {
   "attachments": {},
   "cell_type": "markdown",
   "id": "1860c5c7",
   "metadata": {},
   "source": [
    "\n",
    "### 第一种 1.step=1 or -1  walk=[num+=step]记录最新一次的步数（例如第四次：1+1+1-1=2），然后plt\n"
   ]
  },
  {
   "cell_type": "code",
   "execution_count": 57,
   "id": "1e9cd2ec",
   "metadata": {},
   "outputs": [],
   "source": [
    "import random\n",
    "import matplotlib.pyplot as plt\n",
    "walk=[]\n",
    "steps=0\n",
    "for i in range(1000):\n",
    "    step=random.choice([-1,1])\n",
    "    steps+=step\n",
    "    walk.append(steps)\n",
    "    \n",
    "    "
   ]
  },
  {
   "cell_type": "code",
   "execution_count": 37,
   "id": "ca38690c",
   "metadata": {},
   "outputs": [
    {
     "data": {
      "text/plain": [
       "[<matplotlib.lines.Line2D at 0x1d2b8ebf130>]"
      ]
     },
     "execution_count": 37,
     "metadata": {},
     "output_type": "execute_result"
    },
    {
     "data": {
      "image/png": "[encoded data removed]",
      "text/plain": [
       "<Figure size 432x288 with 1 Axes>"
      ]
     },
     "metadata": {
      "needs_background": "light"
     },
     "output_type": "display_data"
    }
   ],
   "source": [
    "plt.plot(walk)"
   ]
  },
  {
   "cell_type": "markdown",
   "id": "5b3e1247",
   "metadata": {},
   "source": [
    "### 第二种 1.step=random.randiant(0,2,1000次），为0的=-1 ，step.cumsum(),画图"
   ]
  },
  {
   "cell_type": "code",
   "execution_count": 41,
   "id": "88fac0cc",
   "metadata": {},
   "outputs": [
    {
     "data": {
      "text/plain": [
       "[<matplotlib.lines.Line2D at 0x1d2b9102dc0>]"
      ]
     },
     "execution_count": 41,
     "metadata": {},
     "output_type": "execute_result"
    },
    {
     "data": {
      "image/png": "[encoded data removed]",
      "text/plain": [
       "<Figure size 432x288 with 1 Axes>"
      ]
     },
     "metadata": {
      "needs_background": "light"
     },
     "output_type": "display_data"
    }
   ],
   "source": [
    "import random\n",
    "import numpy as np\n",
    "import matplotlib.pyplot as plt\n",
    "step_2=random.choices([-1,1],k=1000)\n",
    "c=np.cumsum(step_2[:100])\n",
    "plt.plot(c)\n"
   ]
  },
  {
   "cell_type": "markdown",
   "id": "bc5eef64",
   "metadata": {},
   "source": [
    "# 同时模拟多次随机漫步"
   ]
  },
  {
   "cell_type": "markdown",
   "id": "94ae04bd",
   "metadata": {},
   "source": [
    "### 首先清楚axis=0 和axis=1 是如何操作的"
   ]
  },
  {
   "cell_type": "code",
   "execution_count": 43,
   "id": "56f23aed",
   "metadata": {},
   "outputs": [
    {
     "data": {
      "text/plain": [
       "array([ True,  True,  True])"
      ]
     },
     "execution_count": 43,
     "metadata": {},
     "output_type": "execute_result"
    }
   ],
   "source": [
    "num_1=np.array([[True,True,False],[False,False,True]])\n",
    "num_1.any(0) # 纵向求和，最后形成一行[T,T,T]"
   ]
  },
  {
   "cell_type": "code",
   "execution_count": 44,
   "id": "e3bb8d73",
   "metadata": {},
   "outputs": [
    {
     "data": {
      "text/plain": [
       "False"
      ]
     },
     "execution_count": 44,
     "metadata": {},
     "output_type": "execute_result"
    }
   ],
   "source": [
    "num_1.all() #形成一行[F,F,F]"
   ]
  },
  {
   "cell_type": "code",
   "execution_count": 45,
   "id": "b890eb4a",
   "metadata": {},
   "outputs": [
    {
     "data": {
      "text/plain": [
       "array([ True, False])"
      ]
     },
     "execution_count": 45,
     "metadata": {},
     "output_type": "execute_result"
    }
   ],
   "source": [
    "num_2=np.array([[True,True,True],[False,False,False]])\n",
    "num_2.any(1) #横向求和，最后形成一列[T,F]"
   ]
  },
  {
   "cell_type": "markdown",
   "id": "278fc33c",
   "metadata": {},
   "source": [
    "### 布尔值数组的sum"
   ]
  },
  {
   "cell_type": "code",
   "execution_count": 46,
   "id": "11e94313",
   "metadata": {},
   "outputs": [
    {
     "data": {
      "text/plain": [
       "3"
      ]
     },
     "execution_count": 46,
     "metadata": {},
     "output_type": "execute_result"
    }
   ],
   "source": [
    "num_3=np.array([[True,True,False],[False,False,True]])\n",
    "num_3.sum() #True = = 1，Fals e= = 0\n"
   ]
  },
  {
   "cell_type": "code",
   "execution_count": 47,
   "id": "df4d694b",
   "metadata": {},
   "outputs": [
    {
     "data": {
      "text/plain": [
       "array([1, 1, 1])"
      ]
     },
     "execution_count": 47,
     "metadata": {},
     "output_type": "execute_result"
    }
   ],
   "source": [
    "num_3.sum(0) # 纵向求和，最后呈现出一行[1,1,1]"
   ]
  },
  {
   "cell_type": "code",
   "execution_count": 48,
   "id": "6e85bd2d",
   "metadata": {},
   "outputs": [
    {
     "data": {
      "text/plain": [
       "array([2, 1])"
      ]
     },
     "execution_count": 48,
     "metadata": {},
     "output_type": "execute_result"
    }
   ],
   "source": [
    "num_3.sum(1) #横线求和，最后呈现出一列[2,1]"
   ]
  },
  {
   "cell_type": "markdown",
   "id": "25c34470",
   "metadata": {},
   "source": [
    "### 最大值的判断"
   ]
  },
  {
   "cell_type": "code",
   "execution_count": 49,
   "id": "2ca72ef3",
   "metadata": {},
   "outputs": [],
   "source": [
    "num_4=np.array([[1, 2, 3],[4, 5, 6]])"
   ]
  },
  {
   "cell_type": "code",
   "execution_count": 50,
   "id": "ea05221c",
   "metadata": {},
   "outputs": [
    {
     "data": {
      "text/plain": [
       "5"
      ]
     },
     "execution_count": 50,
     "metadata": {},
     "output_type": "execute_result"
    }
   ],
   "source": [
    "num_4.argmax() #默认一行，从左向右数 6的位置是[5]"
   ]
  },
  {
   "cell_type": "code",
   "execution_count": 51,
   "id": "5cbda939",
   "metadata": {},
   "outputs": [
    {
     "data": {
      "text/plain": [
       "array([1, 1, 1], dtype=int64)"
      ]
     },
     "execution_count": 51,
     "metadata": {},
     "output_type": "execute_result"
    }
   ],
   "source": [
    "num_4.argmax(0) #[1,2,3]\n",
    "                #[4,5,6]  纵向比较，最大值为4,5,6 在列中的位置是[1],[1],[1]"
   ]
  },
  {
   "cell_type": "code",
   "execution_count": 52,
   "id": "5a1c04b4",
   "metadata": {},
   "outputs": [
    {
     "data": {
      "text/plain": [
       "array([2, 2], dtype=int64)"
      ]
     },
     "execution_count": 52,
     "metadata": {},
     "output_type": "execute_result"
    }
   ],
   "source": [
    "num_4.argmax(1) #[1,2,3]\n",
    "                #[4,5,6]  横向比较，最大值为3,6 在列中的位置是[2],[2]"
   ]
  },
  {
   "cell_type": "markdown",
   "id": "97531caa",
   "metadata": {},
   "source": [
    "    例子：投掷硬币1000次，5000组实验同时做\n",
    "    1：np.random.randint(0,2,size=(1000,5000)) 选择的数据只有0,1\n",
    "    2：数据处理，0变成-1（表示反面），1不变（表示正面）\n",
    "    3：求每次试验后的步长\n"
   ]
  },
  {
   "cell_type": "code",
   "execution_count": 75,
   "id": "0deb6723",
   "metadata": {},
   "outputs": [
    {
     "data": {
      "text/plain": [
       "array([[  1,   0,   1, ...,  -4,  -5,  -6],\n",
       "       [ -1,   0,   1, ...,   0,  -1,  -2],\n",
       "       [ -1,   0,   1, ..., -18, -19, -18],\n",
       "       ...,\n",
       "       [ -1,   0,  -1, ..., -18, -17, -18],\n",
       "       [  1,   2,   3, ...,   0,   1,   2],\n",
       "       [  1,   2,   1, ..., -42, -43, -42]], dtype=int32)"
      ]
     },
     "execution_count": 75,
     "metadata": {},
     "output_type": "execute_result"
    }
   ],
   "source": [
    "import random\n",
    "import matplotlib.pylab as plt\n",
    "text=np.random.randint(0,2,size=(5000,1000))\n",
    "step=np.where(text>0,1,-1)\n",
    "steps=step.cumsum(1)\n",
    "steps"
   ]
  },
  {
   "cell_type": "code",
   "execution_count": 76,
   "id": "f1db0448",
   "metadata": {},
   "outputs": [
    {
     "data": {
      "text/plain": [
       "array([[False, False, False, ..., False, False, False],\n",
       "       [False, False, False, ..., False, False, False],\n",
       "       [False, False, False, ..., False, False, False],\n",
       "       ...,\n",
       "       [False, False, False, ..., False, False, False],\n",
       "       [False, False, False, ..., False, False, False],\n",
       "       [False, False, False, ...,  True,  True,  True]])"
      ]
     },
     "execution_count": 76,
     "metadata": {},
     "output_type": "execute_result"
    }
   ],
   "source": [
    "np.abs(steps)>=30"
   ]
  },
  {
   "cell_type": "code",
   "execution_count": 79,
   "id": "81ab3e11",
   "metadata": {},
   "outputs": [],
   "source": [
    "result=(np.abs(steps)>=30).any(1)"
   ]
  },
  {
   "cell_type": "code",
   "execution_count": 80,
   "id": "ec278899",
   "metadata": {},
   "outputs": [
    {
     "data": {
      "text/plain": [
       "5000"
      ]
     },
     "execution_count": 80,
     "metadata": {},
     "output_type": "execute_result"
    }
   ],
   "source": [
    "len(result)"
   ]
  },
  {
   "cell_type": "code",
   "execution_count": 81,
   "id": "044e8265",
   "metadata": {},
   "outputs": [
    {
     "data": {
      "text/plain": [
       "3313"
      ]
     },
     "execution_count": 81,
     "metadata": {},
     "output_type": "execute_result"
    }
   ],
   "source": [
    "result.sum() # 一个true=1，sum结果是5000个实验组中，有多少个组的steps超过30"
   ]
  },
  {
   "cell_type": "code",
   "execution_count": 83,
   "id": "7b0267dd",
   "metadata": {},
   "outputs": [
    {
     "data": {
      "text/plain": [
       "array([[  1,   0,   1, ...,  -4,  -5,  -6],\n",
       "       [ -1,   0,   1, ...,   0,  -1,  -2],\n",
       "       [ -1,   0,   1, ..., -18, -19, -18],\n",
       "       ...,\n",
       "       [ -1,   0,  -1, ..., -18, -17, -18],\n",
       "       [  1,   2,   3, ...,   0,   1,   2],\n",
       "       [  1,   2,   1, ..., -42, -43, -42]], dtype=int32)"
      ]
     },
     "execution_count": 83,
     "metadata": {},
     "output_type": "execute_result"
    }
   ],
   "source": [
    "steps[result] # 布尔索引，steps大于30的那组实验保留，其余不要"
   ]
  },
  {
   "cell_type": "code",
   "execution_count": 84,
   "id": "94009482",
   "metadata": {},
   "outputs": [
    {
     "data": {
      "text/plain": [
       "(3313, 1000)"
      ]
     },
     "execution_count": 84,
     "metadata": {},
     "output_type": "execute_result"
    }
   ],
   "source": [
    "steps[result].shape"
   ]
  },
  {
   "cell_type": "code",
   "execution_count": 86,
   "id": "6a767d16",
   "metadata": {},
   "outputs": [
    {
     "data": {
      "text/plain": [
       "array([461, 361, 799, ..., 385, 569, 875], dtype=int64)"
      ]
     },
     "execution_count": 86,
     "metadata": {},
     "output_type": "execute_result"
    }
   ],
   "source": [
    "time=(np.abs(steps[result])>=30).argmax(1) # 在保留steps>30的这些组里，第一次出现steps>30的位置\n",
    "time"
   ]
  },
  {
   "cell_type": "code",
   "execution_count": 87,
   "id": "2a3e7250",
   "metadata": {},
   "outputs": [
    {
     "data": {
      "text/plain": [
       "508.45547841835196"
      ]
     },
     "execution_count": 87,
     "metadata": {},
     "output_type": "execute_result"
    }
   ],
   "source": [
    "time.mean() # 求一下平均值"
   ]
  },
  {
   "cell_type": "code",
   "execution_count": null,
   "id": "13675c31",
   "metadata": {},
   "outputs": [],
   "source": []
  }
 ],
 "metadata": {
  "kernelspec": {
   "display_name": "Python 3 (ipykernel)",
   "language": "python",
   "name": "python3"
  },
  "language_info": {
   "codemirror_mode": {
    "name": "ipython",
    "version": 3
   },
   "file_extension": ".py",
   "mimetype": "text/x-python",
   "name": "python",
   "nbconvert_exporter": "python",
   "pygments_lexer": "ipython3",
   "version": "3.9.7"
  }
 },
 "nbformat": 4,
 "nbformat_minor": 5
}
